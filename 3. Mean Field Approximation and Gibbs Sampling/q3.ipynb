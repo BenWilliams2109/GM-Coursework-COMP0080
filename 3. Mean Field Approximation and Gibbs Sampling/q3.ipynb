{
 "cells": [
  {
   "cell_type": "code",
   "execution_count": 2,
   "metadata": {},
   "outputs": [],
   "source": [
    "import numpy as np\n",
    "from tqdm import tqdm"
   ]
  },
  {
   "cell_type": "markdown",
   "metadata": {},
   "source": [
    "### Exact Inference"
   ]
  },
  {
   "cell_type": "markdown",
   "metadata": {},
   "source": [
    "- Edges are potential functions -> p(A,B) propto phi(A,B)\n",
    "- Joint probability distribution factorises into cliques potentials\n",
    "- "
   ]
  },
  {
   "cell_type": "code",
   "execution_count": 3,
   "metadata": {},
   "outputs": [],
   "source": [
    "N = 10\n",
    "lattice = np.reshape(np.arange(1, N*N+1), (N, N))"
   ]
  },
  {
   "cell_type": "code",
   "execution_count": 4,
   "metadata": {},
   "outputs": [],
   "source": [
    "def potential_grid(beta):\n",
    "    return np.exp(beta * np.eye(2))"
   ]
  },
  {
   "cell_type": "code",
   "execution_count": 5,
   "metadata": {},
   "outputs": [],
   "source": [
    "def get_nearest_neighbors(i, j, N):\n",
    "    # only right and below neighbours to avoid double counting\n",
    "    neighbors = []\n",
    "    if i > 0:\n",
    "        neighbors.append((i-1, j))\n",
    "    if i < N-1:\n",
    "        neighbors.append((i+1, j))\n",
    "    if j > 0:\n",
    "        neighbors.append((i, j-1))\n",
    "    if j < N-1:\n",
    "        neighbors.append((i, j+1))\n",
    "        \n",
    "    return neighbors"
   ]
  },
  {
   "cell_type": "code",
   "execution_count": 26,
   "metadata": {},
   "outputs": [],
   "source": [
    "def ising_exact_inference(temp):\n",
    "    N = 10\n",
    "\n",
    "    # Form the potentials for each pair of neighboring variables\n",
    "    potentials = potential_grid(temp)\n",
    "\n",
    "    # Create a grid of variables\n",
    "    S = np.arange(1, N*N+1).reshape((N, N))\n",
    "\n",
    "    # store the potentials in a dictionary - keyed by the index of the factor\n",
    "    phi = {}\n",
    "    # Create a graph of indices for the pairwise potentials - dimensions (x1, x2, y1, y2)\n",
    "    factor_graph = np.zeros((N, N, N, N), dtype=int)\n",
    "\n",
    "    c = 0\n",
    "    # Compute pairwise potentials and factor graph\n",
    "    for s1 in range(1, N*N+1):\n",
    "        i1, j1 = np.argwhere(S == s1)[0]\n",
    "        for s2 in range(s1+1, N*N+1):\n",
    "            i2, j2 = np.argwhere(S == s2)[0]\n",
    "            # If the variables are neighbors store potentials in phi and index in factor graph\n",
    "            if (j1 == j2 and np.abs(i1 - i2) == 1) or (i1 == i2 and np.abs(j1 - j2) == 1):\n",
    "                # increment factor index and store potential\n",
    "                c += 1\n",
    "                phi[c] = potentials\n",
    "                # build factor graph - undirected graph therefore add both directions\n",
    "                factor_graph[i1, i2, j1, j2] = c\n",
    "                factor_graph[i2, i1, j2, j1] = c\n",
    "\n",
    "    # Create row potentials - product of all pairwise potentials in the row\n",
    "    rowphi = [np.ones((2, 2))]\n",
    "    # traverse the rows - top to bottom\n",
    "    for i in range(1, N-1):\n",
    "        # initialise row potential as identity matrix\n",
    "        rowphi_i = np.ones((2, 2))\n",
    "        # traverse the columns - left to right\n",
    "        for j in range(1, N-1):\n",
    "            # multiply by below neighbour potentials\n",
    "            rowphi_i = np.multiply(rowphi_i, phi[factor_graph[i, i, j, j+1]])\n",
    "            # multiply by right neighbour potentials\n",
    "            rowphi_i = np.multiply(rowphi_i, phi[factor_graph[i, i+1, j, j]])\n",
    "\n",
    "        # multiply by below neighbour potentials for last column \n",
    "        # (no right neighbour since last column)\n",
    "        rowphi_i = np.multiply(rowphi_i, phi[factor_graph[i, i+1, N-1, N-1]])\n",
    "        rowphi.append(rowphi_i)\n",
    "\n",
    "    # Compute the row potential for the last row\n",
    "    # (no below neighbour since last row)\n",
    "    rowphi_N = np.ones((2, 2))\n",
    "    for j in range(N-1):\n",
    "        rowphi_N = np.multiply(rowphi_N, phi[factor_graph[N-1, N-1, j, j+1]])\n",
    "    rowphi.append(rowphi_N)\n",
    "\n",
    "    # Belief propagation on collapsed graph\n",
    "    # Initialise messages\n",
    "    messages = [np.ones((2, 2))]\n",
    "    for i in range(1, N):\n",
    "        messages.append(np.matmul(rowphi[i], messages[i-1]))\n",
    "\n",
    "    # Compute the marginals\n",
    "    marginals = []\n",
    "    for i in range(N):\n",
    "        marginals.append(np.multiply(messages[i], rowphi[i]))\n",
    "        marginals[i] = marginals[i] / np.sum(marginals[i])\n",
    "\n",
    "    # normalise the marginals\n",
    "    marginals = np.array(marginals)\n",
    "    \n",
    "    return marginals, logZ\n",
    "\n",
    "\n",
    "# Call the function\n",
    "marginals, logZ = ising_exact_inference(1)"
   ]
  },
  {
   "cell_type": "code",
   "execution_count": 31,
   "metadata": {},
   "outputs": [
    {
     "data": {
      "text/plain": [
       "array([[4.99938303e-01, 6.16972880e-05],\n",
       "       [6.16972880e-05, 4.99938303e-01]])"
      ]
     },
     "execution_count": 31,
     "metadata": {},
     "output_type": "execute_result"
    }
   ],
   "source": [
    "joint = marginals[0]*marginals[9]\n",
    "joint = joint / np.sum(joint)\n",
    "joint"
   ]
  },
  {
   "cell_type": "markdown",
   "metadata": {},
   "source": [
    "### Gibbs Sampling"
   ]
  },
  {
   "cell_type": "markdown",
   "metadata": {},
   "source": [
    "Algorithm\n",
    "- sample state, x\n",
    "- sample from proposal, x' (symmetric)\n",
    "- compute acceptance ratio, a\n",
    "- with probability a x = x'\n",
    "- save x"
   ]
  },
  {
   "cell_type": "code",
   "execution_count": 7,
   "metadata": {},
   "outputs": [],
   "source": [
    "def initial_state(N):\n",
    "    return np.random.choice([-1, 1], size=(N, N))"
   ]
  },
  {
   "cell_type": "code",
   "execution_count": 33,
   "metadata": {},
   "outputs": [],
   "source": [
    "import random\n",
    "def gibbs_sampling(max_iter=10000, burn_in=1000, beta=1.0, N=10):\n",
    "\n",
    "    # initialise the state\n",
    "    state = initial_state(N)\n",
    "    initial = state.copy()\n",
    "\n",
    "    potentials = potential_grid(beta)\n",
    "\n",
    "    samples = []\n",
    "    for _ in range(max_iter):\n",
    "        flip_count = 0\n",
    "        for i in range(N):\n",
    "            for j in range(N):\n",
    "                # compute the conditional probability\n",
    "                # p(x_ij = 1 | x_-ij) proportional to product of NN potentials\n",
    "                nn_potentials = []\n",
    "                for n in get_nearest_neighbors(i, j, N):\n",
    "                    nn_potentials.append(potentials[state[i, j], state[n[0], n[1]]])\n",
    "                p_tilde = np.prod(nn_potentials)\n",
    "                # normalise\n",
    "                p = p_tilde / (p_tilde + 1)\n",
    "                # sample from the conditional distribution\n",
    "                new_state = np.random.choice([-1, 1], p=[1-p, p])\n",
    "                # if state flips update the state and flip count\n",
    "                if new_state != state[i, j]:\n",
    "                    flip_count += 1\n",
    "                    state[i, j] = new_state\n",
    "        # store the state\n",
    "        samples.append(state.copy())\n",
    "        # if no state flips in the last iteration break - fully converged\n",
    "        if len(samples) > burn_in and flip_count == 0:\n",
    "            break\n",
    "\n",
    "    return samples[burn_in:], initial"
   ]
  },
  {
   "cell_type": "code",
   "execution_count": 40,
   "metadata": {},
   "outputs": [],
   "source": [
    "samples, initial = gibbs_sampling(max_iter=1000, burn_in=100, beta=0.1, N=10)"
   ]
  },
  {
   "cell_type": "code",
   "execution_count": 41,
   "metadata": {},
   "outputs": [],
   "source": [
    "def prob_distribution(samples, N=10):\n",
    "    # compute the empirical distribution by counting the number of times each state is positive\n",
    "    p = np.zeros((N, N))\n",
    "    for sample in samples:\n",
    "        for i in range(N):\n",
    "            for j in range(N):\n",
    "                if sample[i, j] == 1:\n",
    "                    p[i, j] += 1\n",
    "    # normalise\n",
    "    p /= len(samples)\n",
    "\n",
    "    return p"
   ]
  },
  {
   "cell_type": "code",
   "execution_count": 49,
   "metadata": {},
   "outputs": [
    {
     "data": {
      "text/plain": [
       "array([[0.30493827, 0.24395062],\n",
       "       [0.25061728, 0.20049383]])"
      ]
     },
     "execution_count": 49,
     "metadata": {},
     "output_type": "execute_result"
    }
   ],
   "source": [
    "marginals = prob_distribution(samples)\n",
    "joint_table = np.zeros([2,2])\n",
    "\n",
    "joint_table[0,0] = marginals[0,9]*marginals[9,9]\n",
    "joint_table[0,1] = marginals[0,9]*(1-marginals[9,9])\n",
    "joint_table[1,0] = (1-marginals[0,9])*marginals[9,9]\n",
    "joint_table[1,1] = (1-marginals[0,9])*(1-marginals[9,9])\n",
    "\n",
    "joint_table"
   ]
  },
  {
   "cell_type": "markdown",
   "metadata": {},
   "source": [
    "### Mean-Field Approximation"
   ]
  },
  {
   "cell_type": "markdown",
   "metadata": {},
   "source": [
    "Process\n",
    "- Determine factorisable distribution q\n",
    "- ELBO -> KL Divergence\n"
   ]
  },
  {
   "cell_type": "code",
   "execution_count": 12,
   "metadata": {},
   "outputs": [],
   "source": [
    "def proposal_distribution(alpha):\n",
    "    q = np.exp(alpha) / (np.exp(alpha) + np.exp(-alpha))\n",
    "    return q"
   ]
  },
  {
   "cell_type": "code",
   "execution_count": 13,
   "metadata": {},
   "outputs": [],
   "source": [
    "def compute_elbo(alpha, beta, N):\n",
    "\n",
    "    binary_entropy = 0\n",
    "    energy = 0\n",
    "    for i in range(N):\n",
    "        for j in range(N):\n",
    "            binary_entropy += np.log(np.exp(alpha[i,j]) + np.exp(-alpha[i,j])) - alpha[i,j] * np.tanh(alpha[i,j])\n",
    "            for n in get_nearest_neighbors(i, j, N):\n",
    "                energy += beta * np.tanh(alpha[i,j]) * np.tanh(alpha[n[0],n[1]])\n",
    "\n",
    "    return binary_entropy + energy"
   ]
  },
  {
   "cell_type": "code",
   "execution_count": 14,
   "metadata": {},
   "outputs": [],
   "source": [
    "def update_alpha(alpha, beta, N):\n",
    "\n",
    "    for i in range(N):\n",
    "        for j in range(N):\n",
    "            for n in get_nearest_neighbors(i, j, N):\n",
    "                    alpha[i,j] += beta * np.tanh(alpha[n[0],n[1]])\n",
    "\n",
    "    return alpha"
   ]
  },
  {
   "cell_type": "code",
   "execution_count": 75,
   "metadata": {},
   "outputs": [],
   "source": [
    "def coordinate_ascent(max_iter, beta, N, tolerance):\n",
    " \n",
    "    state_0 = initial_state(N)\n",
    "    alpha = np.random.uniform(size=(N, N))\n",
    "    state = state_0.copy()\n",
    "\n",
    "    # Placeholder for storing previous ELBO value\n",
    "    prev_elbo = -np.inf\n",
    "\n",
    "    iter = 0\n",
    "    for _ in tqdm(range(max_iter)):\n",
    "        iter += 1\n",
    "\n",
    "        for i in range(N):\n",
    "            for j in range(N):\n",
    "                u = np.random.uniform()\n",
    "                q = proposal_distribution(alpha[i,j])\n",
    "                if u < q:\n",
    "                    state[i,j] = 1\n",
    "                else:\n",
    "                    state[i,j] = -1\n",
    "        # Compute ELBO\n",
    "        elbo = compute_elbo(alpha, beta, N)\n",
    "        \n",
    "        # Check for convergence\n",
    "        if np.abs(elbo - prev_elbo) == tolerance or elbo < prev_elbo:\n",
    "            break\n",
    "        \n",
    "        alpha = update_alpha(alpha, beta, N)\n",
    "        \n",
    "        # Update previous ELBO value for convergence check\n",
    "        prev_elbo = elbo\n",
    "\n",
    "    return alpha, iter"
   ]
  },
  {
   "cell_type": "code",
   "execution_count": 79,
   "metadata": {},
   "outputs": [
    {
     "name": "stderr",
     "output_type": "stream",
     "text": [
      "  0%|          | 1/10000 [00:00<00:30, 323.53it/s]\n"
     ]
    }
   ],
   "source": [
    "alpha, iter = coordinate_ascent(max_iter=10000, beta=0.01, N=10, tolerance=1e-10)"
   ]
  },
  {
   "cell_type": "code",
   "execution_count": 80,
   "metadata": {},
   "outputs": [
    {
     "data": {
      "text/plain": [
       "(array([[0.13140281, 0.72132764, 0.73518608, 0.78468446, 0.82251973,\n",
       "         0.90454701, 0.09555338, 0.02281779, 0.11798546, 0.7884537 ],\n",
       "        [0.6629321 , 0.69301719, 0.55863662, 0.15471899, 0.55757706,\n",
       "         0.5412679 , 0.32427463, 0.46268601, 0.7794854 , 0.13457903],\n",
       "        [0.13845465, 0.13638283, 0.71304976, 0.88536987, 0.94727623,\n",
       "         0.7207491 , 0.93352044, 1.00054533, 0.80659246, 0.82893212],\n",
       "        [0.06493832, 0.21994288, 0.88116516, 0.61229848, 0.74344839,\n",
       "         0.55680402, 0.73720125, 0.81049918, 0.25390939, 0.11916099],\n",
       "        [0.82992592, 0.63642282, 0.44532464, 0.46208465, 0.89259539,\n",
       "         0.97898143, 0.73863817, 0.03656629, 0.7317334 , 0.41734226],\n",
       "        [0.98774019, 0.7910785 , 0.12855522, 0.57970764, 0.17680485,\n",
       "         0.49443661, 0.34259555, 0.80775986, 0.80361764, 0.73428685],\n",
       "        [0.56513787, 0.03846341, 0.57194786, 0.02920397, 0.54696884,\n",
       "         0.5453011 , 0.03718055, 0.48915341, 1.00947621, 0.37162815],\n",
       "        [0.88669831, 0.60871909, 0.22927772, 0.81002813, 0.04679178,\n",
       "         0.21475634, 0.12120785, 0.57618402, 0.06620074, 0.4794568 ],\n",
       "        [0.67993808, 0.09150383, 0.13133967, 0.87592627, 0.7682918 ,\n",
       "         0.21004513, 0.72679155, 0.45524909, 0.94076528, 0.05192136],\n",
       "        [0.03850601, 0.65641285, 0.41838523, 0.63454837, 0.3947862 ,\n",
       "         0.12158123, 0.64697301, 0.22788614, 0.17048446, 0.82381214]]),\n",
       " 2)"
      ]
     },
     "execution_count": 80,
     "metadata": {},
     "output_type": "execute_result"
    }
   ],
   "source": [
    "alpha, iter"
   ]
  },
  {
   "cell_type": "code",
   "execution_count": 81,
   "metadata": {},
   "outputs": [
    {
     "data": {
      "text/plain": [
       "array([[0.69497813, 0.13378795],\n",
       "       [0.14359157, 0.02764234]])"
      ]
     },
     "execution_count": 81,
     "metadata": {},
     "output_type": "execute_result"
    }
   ],
   "source": [
    "marginals = proposal_distribution(alpha)\n",
    "\n",
    "joint_table = np.zeros([2,2])\n",
    "\n",
    "joint_table[0,0] = marginals[0,9]*marginals[9,9]\n",
    "joint_table[0,1] = marginals[0,9]*(1-marginals[9,9])\n",
    "joint_table[1,0] = (1-marginals[0,9])*marginals[9,9]\n",
    "joint_table[1,1] = (1-marginals[0,9])*(1-marginals[9,9])\n",
    "\n",
    "joint_table"
   ]
  },
  {
   "cell_type": "code",
   "execution_count": null,
   "metadata": {},
   "outputs": [],
   "source": []
  }
 ],
 "metadata": {
  "kernelspec": {
   "display_name": "base",
   "language": "python",
   "name": "python3"
  },
  "language_info": {
   "codemirror_mode": {
    "name": "ipython",
    "version": 3
   },
   "file_extension": ".py",
   "mimetype": "text/x-python",
   "name": "python",
   "nbconvert_exporter": "python",
   "pygments_lexer": "ipython3",
   "version": "3.11.4"
  }
 },
 "nbformat": 4,
 "nbformat_minor": 2
}
