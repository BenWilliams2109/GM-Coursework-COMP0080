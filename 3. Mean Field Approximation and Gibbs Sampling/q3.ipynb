{
 "cells": [
  {
   "cell_type": "code",
   "execution_count": 1,
   "metadata": {},
   "outputs": [],
   "source": [
    "import numpy as np"
   ]
  },
  {
   "cell_type": "markdown",
   "metadata": {},
   "source": [
    "### Exact Inference"
   ]
  },
  {
   "cell_type": "markdown",
   "metadata": {},
   "source": [
    "- Edges are potential functions -> p(A,B) propto phi(A,B)\n",
    "- Joint probability distribution factorises into cliques potentials\n",
    "- "
   ]
  },
  {
   "cell_type": "code",
   "execution_count": 2,
   "metadata": {},
   "outputs": [],
   "source": [
    "N = 10\n",
    "lattice = np.reshape(np.arange(1, N*N+1), (N, N))"
   ]
  },
  {
   "cell_type": "code",
   "execution_count": 3,
   "metadata": {},
   "outputs": [],
   "source": [
    "def potential_grid(beta):\n",
    "    return np.exp(beta * np.eye(2))"
   ]
  },
  {
   "cell_type": "code",
   "execution_count": 28,
   "metadata": {},
   "outputs": [],
   "source": [
    "def get_nearest_neighbors(i, j, N):\n",
    "    # only right and below neighbours to avoid double counting\n",
    "    neighbors = []\n",
    "    if i > 0:\n",
    "        neighbors.append((i-1, j))\n",
    "    if i < N-1:\n",
    "        neighbors.append((i+1, j))\n",
    "    if j > 0:\n",
    "        neighbors.append((i, j-1))\n",
    "    if j < N-1:\n",
    "        neighbors.append((i, j+1))\n",
    "        \n",
    "    return neighbors"
   ]
  },
  {
   "cell_type": "code",
   "execution_count": null,
   "metadata": {},
   "outputs": [],
   "source": [
    "def ising_exact_inference(temp):\n",
    "    N = 10\n",
    "\n",
    "    # Form the potentials for each pair of neighboring variables\n",
    "    potentials = potential_grid(temp)\n",
    "\n",
    "    # Create a grid of variables\n",
    "    S = np.arange(1, N*N+1).reshape((N, N))\n",
    "\n",
    "    # store the potentials in a dictionary - keyed by the index of the factor\n",
    "    phi = {}\n",
    "    # Create a graph of indices for the pairwise potentials - dimensions (x1, x2, y1, y2)\n",
    "    factor_graph = np.zeros((N, N, N, N), dtype=int)\n",
    "\n",
    "    c = 0\n",
    "    # Compute pairwise potentials and factor graph\n",
    "    for s1 in range(1, N*N+1):\n",
    "        i1, j1 = np.argwhere(S == s1)[0]\n",
    "        for s2 in range(s1+1, N*N+1):\n",
    "            i2, j2 = np.argwhere(S == s2)[0]\n",
    "            # If the variables are neighbors store potentials in phi and index in factor graph\n",
    "            if (j1 == j2 and np.abs(i1 - i2) == 1) or (i1 == i2 and np.abs(j1 - j2) == 1):\n",
    "                # increment factor index and store potential\n",
    "                c += 1\n",
    "                phi[c] = potentials\n",
    "                # build factor graph - undirected graph therefore add both directions\n",
    "                factor_graph[i1, i2, j1, j2] = c\n",
    "                factor_graph[i2, i1, j2, j1] = c\n",
    "\n",
    "    # Create row potentials - product of all pairwise potentials in the row\n",
    "    rowphi = [np.ones((2, 2))]\n",
    "    # traverse the rows - top to bottom\n",
    "    for i in range(1, N-1):\n",
    "        # initialise row potential as identity matrix\n",
    "        rowphi_i = np.ones((2, 2))\n",
    "        # traverse the columns - left to right\n",
    "        for j in range(1, N-1):\n",
    "            # multiply by below neighbour potentials\n",
    "            rowphi_i = np.multiply(rowphi_i, phi[factor_graph[i, i, j, j+1]])\n",
    "            # multiply by right neighbour potentials\n",
    "            rowphi_i = np.multiply(rowphi_i, phi[factor_graph[i, i+1, j, j]])\n",
    "\n",
    "        # multiply by below neighbour potentials for last column \n",
    "        # (no right neighbour since last column)\n",
    "        rowphi_i = np.multiply(rowphi_i, phi[factor_graph[i, i+1, N-1, N-1]])\n",
    "        rowphi.append(rowphi_i)\n",
    "\n",
    "    # Compute the row potential for the last row\n",
    "    # (no below neighbour since last row)\n",
    "    rowphi_N = np.ones((2, 2))\n",
    "    for j in range(N-1):\n",
    "        rowphi_N = np.multiply(rowphi_N, phi[factor_graph[N-1, N-1, j, j+1]])\n",
    "    rowphi.append(rowphi_N)\n",
    "\n",
    "    # sum-product message passing on the chain\n",
    "    # initialise messages\n",
    "    mess = rowphi[0]\n",
    "    mmess = []\n",
    "    # traverse the rows - top to bottom\n",
    "    for i in range(1, N-1):\n",
    "        # multiply by below neighbour potentials\n",
    "        mess = np.dot(mess, rowphi[i])\n",
    "        # normalise\n",
    "        mmess.append(mess.max())\n",
    "        mess /= mmess[-1]\n",
    "\n",
    "    # Compute the partition function logZ\n",
    "    logZ = np.log(mess.sum())\n",
    "    logZ += np.sum(np.log(mmess))\n",
    "\n",
    "    return logZ\n",
    "\n",
    "\n",
    "# Call the function\n",
    "ising_exact_inference(1)"
   ]
  },
  {
   "cell_type": "markdown",
   "metadata": {},
   "source": [
    "### Gibbs Sampling"
   ]
  },
  {
   "cell_type": "markdown",
   "metadata": {},
   "source": [
    "Algorithm\n",
    "- sample state, x\n",
    "- sample from proposal, x' (symmetric)\n",
    "- compute acceptance ratio, a\n",
    "- with probability a x = x'\n",
    "- save x"
   ]
  },
  {
   "cell_type": "code",
   "execution_count": 263,
   "metadata": {},
   "outputs": [],
   "source": [
    "def initial_state(N):\n",
    "    return np.random.choice([-1, 1], size=(N, N))"
   ]
  },
  {
   "cell_type": "code",
   "execution_count": 275,
   "metadata": {},
   "outputs": [],
   "source": [
    "import random\n",
    "def gibbs_sampling(max_iter=10000, burn_in=1000, beta=1.0, N=10):\n",
    "\n",
    "    # initialise the state\n",
    "    state = initial_state(N)\n",
    "    initial = state.copy()\n",
    "\n",
    "    potentials = potential_grid(beta)\n",
    "\n",
    "    samples = []\n",
    "    for _ in range(max_iter):\n",
    "        flip_count = 0\n",
    "        for i in range(N):\n",
    "            for j in range(N):\n",
    "                # compute the conditional probability\n",
    "                # p(x_ij = 1 | x_-ij) proportional to product of NN potentials\n",
    "                nn_potentials = []\n",
    "                for n in get_nearest_neighbors(i, j, N):\n",
    "                    nn_potentials.append(potentials[state[i, j], state[n[0], n[1]]])\n",
    "                p_tilde = np.prod(nn_potentials)\n",
    "                # normalise\n",
    "                p = p_tilde / (p_tilde + 1)\n",
    "                # sample from the conditional distribution\n",
    "                new_state = np.random.choice([-1, 1], p=[1-p, p])\n",
    "                # if state flips update the state and flip count\n",
    "                if new_state != state[i, j]:\n",
    "                    flip_count += 1\n",
    "                    state[i, j] = new_state\n",
    "        # store the state\n",
    "        samples.append(state.copy())\n",
    "        # if no state flips in the last iteration break - fully converged\n",
    "        if len(samples) > burn_in and flip_count == 0:\n",
    "            break\n",
    "\n",
    "    return samples[burn_in:], initial\n"
   ]
  },
  {
   "cell_type": "code",
   "execution_count": 281,
   "metadata": {},
   "outputs": [],
   "source": [
    "samples, initial = gibbs_sampling(max_iter=1000, burn_in=100, beta=4, N=10)"
   ]
  },
  {
   "cell_type": "code",
   "execution_count": 282,
   "metadata": {},
   "outputs": [],
   "source": [
    "def prob_distribution(samples, N=10):\n",
    "    # compute the empirical distribution by counting the number of times each state is positive\n",
    "    p = np.zeros((N, N))\n",
    "    for sample in samples:\n",
    "        for i in range(N):\n",
    "            for j in range(N):\n",
    "                if sample[i, j] == 1:\n",
    "                    p[i, j] += 1\n",
    "    # normalise\n",
    "    p /= len(samples)\n",
    "\n",
    "    return p"
   ]
  },
  {
   "cell_type": "code",
   "execution_count": 283,
   "metadata": {},
   "outputs": [
    {
     "data": {
      "text/plain": [
       "1.0"
      ]
     },
     "execution_count": 283,
     "metadata": {},
     "output_type": "execute_result"
    }
   ],
   "source": [
    "marginals = prob_distribution(samples)\n",
    "joint = marginals[0,9]*marginals[9,9]\n",
    "joint"
   ]
  },
  {
   "cell_type": "markdown",
   "metadata": {},
   "source": [
    "### Mean-Field Approximation"
   ]
  },
  {
   "cell_type": "markdown",
   "metadata": {},
   "source": [
    "Process\n",
    "- Determine factorisable distribution q\n",
    "- ELBO -> KL Divergence\n"
   ]
  },
  {
   "cell_type": "code",
   "execution_count": 103,
   "metadata": {},
   "outputs": [],
   "source": [
    "def proposal_distribution(alpha):\n",
    "    q = np.exp(alpha) / (np.exp(alpha) + np.exp(-alpha))\n",
    "    return q"
   ]
  },
  {
   "cell_type": "code",
   "execution_count": 241,
   "metadata": {},
   "outputs": [],
   "source": [
    "def compute_elbo(alpha, beta, N):\n",
    "\n",
    "    binary_entropy = 0\n",
    "    energy = 0\n",
    "    for i in range(N):\n",
    "        for j in range(N):\n",
    "            binary_entropy += np.log(np.exp(alpha[i,j]) + np.exp(-alpha[i,j])) - alpha[i,j] * np.tanh(alpha[i,j])\n",
    "            for n in get_nearest_neighbors(i, j, N):\n",
    "                energy += beta * np.tanh(alpha[i,j]) * np.tanh(alpha[n[0],n[1]])\n",
    "\n",
    "    return binary_entropy + energy"
   ]
  },
  {
   "cell_type": "code",
   "execution_count": 242,
   "metadata": {},
   "outputs": [],
   "source": [
    "def update_alpha(alpha, beta, N):\n",
    "\n",
    "    for i in range(N):\n",
    "        for j in range(N):\n",
    "            alpha[i,j] = 0\n",
    "            for n in get_nearest_neighbors(i, j, N):\n",
    "                    alpha[i,j] += beta * np.tanh(alpha[n[0],n[1]])\n",
    "\n",
    "    return alpha"
   ]
  },
  {
   "cell_type": "code",
   "execution_count": 303,
   "metadata": {},
   "outputs": [],
   "source": [
    "def coordinate_ascent(max_iter=10000, beta=1.0, N=10, tolerance=1e-6):\n",
    "\n",
    "    alpha = 3 * np.ones((N, N))\n",
    "    state_0 = initial_state(N)\n",
    "    state = state_0.copy()\n",
    "\n",
    "    # Placeholder for storing previous ELBO value\n",
    "    prev_elbo = -np.inf\n",
    "\n",
    "    iter = 0\n",
    "    for _ in range(max_iter):\n",
    "        iter += 1\n",
    "\n",
    "        for i in range(N):\n",
    "            for j in range(N):\n",
    "                u = np.random.uniform()\n",
    "                q = proposal_distribution(alpha[i,j])\n",
    "                if u < q:\n",
    "                    state[i,j] = 1\n",
    "                else:\n",
    "                    state[i,j] = -1\n",
    "        # Compute ELBO\n",
    "        elbo = compute_elbo(alpha, beta, N)\n",
    "        \n",
    "        # Check for convergence\n",
    "        if np.abs(elbo - prev_elbo) == tolerance:\n",
    "            break\n",
    "        \n",
    "        alpha = update_alpha(alpha, beta, N)\n",
    "        \n",
    "        # Update previous ELBO value for convergence check\n",
    "        prev_elbo = elbo\n",
    "\n",
    "    return alpha, iter"
   ]
  },
  {
   "cell_type": "code",
   "execution_count": 304,
   "metadata": {},
   "outputs": [],
   "source": [
    "alpha, iter = coordinate_ascent(max_iter=10000, beta=1, N=10, tolerance=1e-10)"
   ]
  },
  {
   "cell_type": "code",
   "execution_count": 305,
   "metadata": {},
   "outputs": [
    {
     "data": {
      "text/plain": [
       "(array([[1.98923475, 2.95751576, 2.98888425, 2.98921078, 2.98921407,\n",
       "         2.98921407, 2.98921078, 2.98888425, 2.95751576, 1.98923475],\n",
       "        [2.95751576, 3.98787418, 3.99290209, 3.99291226, 3.99291231,\n",
       "         3.99291231, 3.99291226, 3.99290209, 3.98787418, 2.95751576],\n",
       "        [2.98888425, 3.99290209, 3.99729076, 3.99729672, 3.99729673,\n",
       "         3.99729673, 3.99729672, 3.99729076, 3.99290209, 2.98888425],\n",
       "        [2.98921078, 3.99291226, 3.99729672, 3.99730268, 3.99730268,\n",
       "         3.99730268, 3.99730268, 3.99729672, 3.99291226, 2.98921078],\n",
       "        [2.98921407, 3.99291231, 3.99729673, 3.99730268, 3.99730269,\n",
       "         3.99730269, 3.99730268, 3.99729673, 3.99291231, 2.98921407],\n",
       "        [2.98921407, 3.99291231, 3.99729673, 3.99730268, 3.99730269,\n",
       "         3.99730269, 3.99730268, 3.99729673, 3.99291231, 2.98921407],\n",
       "        [2.98921078, 3.99291226, 3.99729672, 3.99730268, 3.99730268,\n",
       "         3.99730268, 3.99730268, 3.99729672, 3.99291226, 2.98921078],\n",
       "        [2.98888425, 3.99290209, 3.99729076, 3.99729672, 3.99729673,\n",
       "         3.99729673, 3.99729672, 3.99729076, 3.99290209, 2.98888425],\n",
       "        [2.95751576, 3.98787418, 3.99290209, 3.99291226, 3.99291231,\n",
       "         3.99291231, 3.99291226, 3.99290209, 3.98787418, 2.95751576],\n",
       "        [1.98923475, 2.95751576, 2.98888425, 2.98921078, 2.98921407,\n",
       "         2.98921407, 2.98921078, 2.98888425, 2.95751576, 1.98923475]]),\n",
       " 10000)"
      ]
     },
     "execution_count": 305,
     "metadata": {},
     "output_type": "execute_result"
    }
   ],
   "source": [
    "alpha, iter"
   ]
  },
  {
   "cell_type": "code",
   "execution_count": 306,
   "metadata": {},
   "outputs": [],
   "source": [
    "marginals = proposal_distribution(alpha)"
   ]
  },
  {
   "cell_type": "code",
   "execution_count": 307,
   "metadata": {},
   "outputs": [
    {
     "data": {
      "text/plain": [
       "0.9635965345772143"
      ]
     },
     "execution_count": 307,
     "metadata": {},
     "output_type": "execute_result"
    }
   ],
   "source": [
    "joint = marginals[0,9]*marginals[9,9]\n",
    "joint"
   ]
  },
  {
   "cell_type": "code",
   "execution_count": null,
   "metadata": {},
   "outputs": [],
   "source": []
  }
 ],
 "metadata": {
  "kernelspec": {
   "display_name": "base",
   "language": "python",
   "name": "python3"
  },
  "language_info": {
   "codemirror_mode": {
    "name": "ipython",
    "version": 3
   },
   "file_extension": ".py",
   "mimetype": "text/x-python",
   "name": "python",
   "nbconvert_exporter": "python",
   "pygments_lexer": "ipython3",
   "version": "3.11.4"
  }
 },
 "nbformat": 4,
 "nbformat_minor": 2
}
