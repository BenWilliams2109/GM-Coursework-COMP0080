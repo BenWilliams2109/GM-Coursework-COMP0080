{
  "cells": [
    {
      "cell_type": "markdown",
      "metadata": {
        "id": "view-in-github",
        "colab_type": "text"
      },
      "source": [
        "<a href=\"https://colab.research.google.com/github/BenWilliams2109/GM-Coursework-COMP0080/blob/main/3.%20Mean%20Field%20Approximation%20and%20Gibbs%20Sampling/Ising-Model-Inference.ipynb\" target=\"_parent\"><img src=\"https://colab.research.google.com/assets/colab-badge.svg\" alt=\"Open In Colab\"/></a>"
      ]
    },
    {
      "cell_type": "markdown",
      "source": [
        "## Ising Model Inference"
      ],
      "metadata": {
        "id": "TAAVlyJddAIy"
      }
    },
    {
      "cell_type": "code",
      "source": [
        "import numpy as np\n",
        "import matplotlib.pyplot as plt"
      ],
      "metadata": {
        "id": "fockrY9edCV_"
      },
      "execution_count": 2,
      "outputs": []
    },
    {
      "cell_type": "code",
      "source": [
        "Gx, Gy = 4, 4\n",
        "neighbours = np.zeros((Gx*Gy,Gx*Gy))\n",
        "states = np.arange(Gx*Gy).reshape((Gx, Gy), order=\"F\").astype(int)"
      ],
      "metadata": {
        "id": "HWJI_uhBc_4p"
      },
      "execution_count": null,
      "outputs": []
    },
    {
      "cell_type": "code",
      "source": [
        "for i in range(0, Gx):\n",
        "\n",
        "    for j in range(0, Gy):\n",
        "\n",
        "        if (i-1 >= 0) and (j < Gy):\n",
        "            neighbours[states[i-1][j], states[i][j]] = 1\n",
        "\n",
        "        if (i+1 < Gx) and (j < Gy):\n",
        "            neighbours[states[i+1][j], states[i][j]] = 1\n",
        "\n",
        "        if (j-1 >= 0) and (i < Gx):\n",
        "            neighbours[states[i][j-1], states[i][j]] = 1\n",
        "\n",
        "        if (j+1 < Gy) and (i < Gx):\n",
        "            neighbours[states[i][j+1], states[i][j]] = 1\n",
        "\n",
        "normed_neighbours = neighbours / np.sum(neighbours, axis=1)\n",
        "rounded = np.round(neighbours, 2).astype(int)\n",
        "print(rounded.astype(int))"
      ],
      "metadata": {
        "id": "zWet_RvkdLpk",
        "outputId": "30d952dc-b024-441a-9735-999331876798",
        "colab": {
          "base_uri": "https://localhost:8080/"
        }
      },
      "execution_count": null,
      "outputs": [
        {
          "output_type": "stream",
          "name": "stdout",
          "text": [
            "[[0 1 0 0 1 0 0 0 0 0 0 0 0 0 0 0]\n",
            " [1 0 1 0 0 1 0 0 0 0 0 0 0 0 0 0]\n",
            " [0 1 0 1 0 0 1 0 0 0 0 0 0 0 0 0]\n",
            " [0 0 1 0 0 0 0 1 0 0 0 0 0 0 0 0]\n",
            " [1 0 0 0 0 1 0 0 1 0 0 0 0 0 0 0]\n",
            " [0 1 0 0 1 0 1 0 0 1 0 0 0 0 0 0]\n",
            " [0 0 1 0 0 1 0 1 0 0 1 0 0 0 0 0]\n",
            " [0 0 0 1 0 0 1 0 0 0 0 1 0 0 0 0]\n",
            " [0 0 0 0 1 0 0 0 0 1 0 0 1 0 0 0]\n",
            " [0 0 0 0 0 1 0 0 1 0 1 0 0 1 0 0]\n",
            " [0 0 0 0 0 0 1 0 0 1 0 1 0 0 1 0]\n",
            " [0 0 0 0 0 0 0 1 0 0 1 0 0 0 0 1]\n",
            " [0 0 0 0 0 0 0 0 1 0 0 0 0 1 0 0]\n",
            " [0 0 0 0 0 0 0 0 0 1 0 0 1 0 1 0]\n",
            " [0 0 0 0 0 0 0 0 0 0 1 0 0 1 0 1]\n",
            " [0 0 0 0 0 0 0 0 0 0 0 1 0 0 1 0]]\n"
          ]
        }
      ]
    },
    {
      "cell_type": "code",
      "source": [
        "fig, ax = plt.subplots()\n",
        "im = ax.imshow(rounded)\n",
        "\n",
        "for i in range(rounded.shape[0]):\n",
        "    for j in range(rounded.shape[1]):\n",
        "        text = ax.text(j, i, rounded[i, j],\n",
        "        ha=\"center\", va=\"center\", color=\"w\")"
      ],
      "metadata": {
        "id": "gft3TFkxdLtF",
        "outputId": "65efa28b-4c16-48ca-8940-92cd462f9e56",
        "colab": {
          "base_uri": "https://localhost:8080/",
          "height": 430
        }
      },
      "execution_count": null,
      "outputs": [
        {
          "output_type": "display_data",
          "data": {
            "text/plain": [
              "<Figure size 640x480 with 1 Axes>"
            ],
            "image/png": "[encoded data removed]"
          },
          "metadata": {}
        }
      ]
    },
    {
      "cell_type": "code",
      "source": [
        "v1 = np.array(([1, 0, 0, 0, 0, 0, 0, 0, 0, 0 ,0 ,0 ,0 ,0, 0, 0]))\n",
        "np.linalg.matrix_power(neighbours, 10) @ v1"
      ],
      "metadata": {
        "id": "NvaQuIjudLuc",
        "outputId": "92b0dbf1-c070-4a2c-b457-69f8a44ca444",
        "colab": {
          "base_uri": "https://localhost:8080/"
        }
      },
      "execution_count": null,
      "outputs": [
        {
          "output_type": "execute_result",
          "data": {
            "text/plain": [
              "array([ 5438.,     0.,  8095.,     0.,     0., 13220.,     0.,  7470.,\n",
              "        8095.,     0., 11970.,     0.,     0.,  7470.,     0.,  4188.])"
            ]
          },
          "metadata": {},
          "execution_count": 7
        }
      ]
    },
    {
      "cell_type": "markdown",
      "source": [
        "## Singly Connected Graph\n",
        "\n",
        "> Here I am just trying to mess around with singly connected graphs to figure out message passing.\n",
        "\n"
      ],
      "metadata": {
        "id": "ULlXX5hndaCB"
      }
    },
    {
      "cell_type": "code",
      "source": [
        "# This just defines the given edge potential function in the Ising Model\n",
        "def phi(x, y):\n",
        "    # exp(beta*I(x==y))\n",
        "    return np.exp((beta/4)*(x-y)**2)"
      ],
      "metadata": {
        "id": "6TsXFGvydo9F"
      },
      "execution_count": null,
      "outputs": []
    },
    {
      "cell_type": "code",
      "source": [
        "# Initial values\n",
        "beta = 0.01\n",
        "states = [-1, 1]\n",
        "p = [1/3, 2/2]\n",
        "\n",
        "def message_pass(length, edge_p):\n",
        "\n",
        "    gammas = []\n",
        "    back_prop = []\n",
        "\n",
        "    gammas.append({\n",
        "        \"message\": \"p(2|1)*p(1)\",\n",
        "        \"0\": [np.exp(beta)*p[0], p[1]], # gamma_b(a=1)\n",
        "        \"1\": [p[0], np.exp(beta)*p[1]] # gamma_b(a=-1)\n",
        "    })\n",
        "\n",
        "    # Normalisation\n",
        "    norm = sum(gammas[-1][\"0\"]) + sum(gammas[-1][\"1\"])\n",
        "    gammas[-1][\"0\"] = gammas[-1][\"0\"]/norm\n",
        "    gammas[-1][\"1\"] = gammas[-1][\"1\"]/norm\n",
        "\n",
        "    for i in range(1, length-1):\n",
        "\n",
        "        gammas.append({\n",
        "            \"message\": \"p(\" + str(i+2) + \"|\" + str(i+1) + \")*γ_\" + str(i) + \"(\" + str(i+1) + \")\",\n",
        "            \"0\": [np.exp(beta)*np.max(gammas[i-1][\"0\"]), 1*np.max(gammas[i-1][\"1\"])],\n",
        "            \"1\": [1*np.max(gammas[i-1][\"0\"]), np.exp(beta)*np.max(gammas[i-1][\"1\"])]\n",
        "        })\n",
        "\n",
        "        # Normalisation\n",
        "        norm = sum(gammas[-1][\"0\"]) + sum(gammas[-1][\"1\"])\n",
        "        gammas[-1][\"0\"] = gammas[-1][\"0\"]/norm\n",
        "        gammas[-1][\"1\"] = gammas[-1][\"1\"]/norm\n",
        "\n",
        "    # Backwards pass\n",
        "    to_max = [np.max(gammas[-i][\"0\"]), np.max(gammas[-i][\"1\"])]\n",
        "    back_prop.append(str(np.argmax(to_max)))\n",
        "\n",
        "    for i in range(2, length):\n",
        "\n",
        "        to_max = [np.max(gammas[-i][back_prop[i-2]]), np.max(gammas[-i][back_prop[i-2]])]\n",
        "        back_prop.append(str(np.argmax(to_max)))\n",
        "\n",
        "    for i in range(0, length-1):\n",
        "        gammas[i][\"0\"] = np.round(gammas[i][\"0\"], 3)\n",
        "        gammas[i][\"1\"] = np.round(gammas[i][\"1\"], 3)\n",
        "\n",
        "    return gammas, back_prop"
      ],
      "metadata": {
        "id": "dVfpTAqWdLvt"
      },
      "execution_count": null,
      "outputs": []
    },
    {
      "cell_type": "code",
      "source": [
        "g, b = message_pass(10, phi)"
      ],
      "metadata": {
        "id": "d5aALZgNdLxh"
      },
      "execution_count": null,
      "outputs": []
    },
    {
      "cell_type": "code",
      "source": [
        "g"
      ],
      "metadata": {
        "id": "DUxrxPgfdLzp",
        "outputId": "2af1a1bf-fb71-459b-f732-49d997f6104b",
        "colab": {
          "base_uri": "https://localhost:8080/"
        }
      },
      "execution_count": null,
      "outputs": [
        {
          "output_type": "execute_result",
          "data": {
            "text/plain": [
              "[{'message': 'p(2|1)*p(1)',\n",
              "  '0': array([0.126, 0.373]),\n",
              "  '1': array([0.124, 0.377])},\n",
              " {'message': 'p(3|2)*γ_1(2)',\n",
              "  '0': array([0.25, 0.25]),\n",
              "  '1': array([0.248, 0.253])},\n",
              " {'message': 'p(4|3)*γ_2(3)',\n",
              "  '0': array([0.25, 0.25]),\n",
              "  '1': array([0.248, 0.253])},\n",
              " {'message': 'p(5|4)*γ_3(4)',\n",
              "  '0': array([0.25, 0.25]),\n",
              "  '1': array([0.248, 0.253])},\n",
              " {'message': 'p(6|5)*γ_4(5)',\n",
              "  '0': array([0.25, 0.25]),\n",
              "  '1': array([0.248, 0.253])},\n",
              " {'message': 'p(7|6)*γ_5(6)',\n",
              "  '0': array([0.25, 0.25]),\n",
              "  '1': array([0.248, 0.253])},\n",
              " {'message': 'p(8|7)*γ_6(7)',\n",
              "  '0': array([0.25, 0.25]),\n",
              "  '1': array([0.248, 0.253])},\n",
              " {'message': 'p(9|8)*γ_7(8)',\n",
              "  '0': array([0.25, 0.25]),\n",
              "  '1': array([0.248, 0.253])},\n",
              " {'message': 'p(10|9)*γ_8(9)',\n",
              "  '0': array([0.25, 0.25]),\n",
              "  '1': array([0.248, 0.253])}]"
            ]
          },
          "metadata": {},
          "execution_count": 16
        }
      ]
    },
    {
      "cell_type": "code",
      "source": [
        "# The optimal states at each stage, returned from 0,1 to +1,-1\n",
        "-2*np.array([int(x) for x in b]) + 1"
      ],
      "metadata": {
        "id": "fpoy1FgrdL1q",
        "outputId": "664ede67-1264-4200-ee10-1190d4d19050",
        "colab": {
          "base_uri": "https://localhost:8080/"
        }
      },
      "execution_count": null,
      "outputs": [
        {
          "output_type": "execute_result",
          "data": {
            "text/plain": [
              "array([-1,  1,  1,  1,  1,  1,  1,  1,  1])"
            ]
          },
          "metadata": {},
          "execution_count": 18
        }
      ]
    },
    {
      "cell_type": "code",
      "source": [
        "def get_nearest_neighbors(i, j, N):\n",
        "    # only right and below neighbours to avoid double counting\n",
        "    neighbors = []\n",
        "    if i > 0:\n",
        "        neighbors.append((i-1, j))\n",
        "    if i < N-1:\n",
        "        neighbors.append((i+1, j))\n",
        "    if j > 0:\n",
        "        neighbors.append((i, j-1))\n",
        "    if j < N-1:\n",
        "        neighbors.append((i, j+1))\n",
        "\n",
        "    return neighbors"
      ],
      "metadata": {
        "id": "IZ0H8s6JdL30"
      },
      "execution_count": 27,
      "outputs": []
    },
    {
      "cell_type": "markdown",
      "source": [
        "# Ising Model Mean Field Approximation"
      ],
      "metadata": {
        "id": "paHY03VOJBE_"
      }
    },
    {
      "cell_type": "code",
      "source": [
        "# Edge potential function in the Ising Model\n",
        "def phi(x, y):\n",
        "    # exp(beta*I(x==y))\n",
        "    return np.exp((beta/4)*(x-y)**2)"
      ],
      "metadata": {
        "id": "swnt3kBBdL5-"
      },
      "execution_count": 5,
      "outputs": []
    },
    {
      "cell_type": "code",
      "source": [
        "# Initialise Ising Model\n",
        "mrf = np.zeros((10, 10))\n",
        "for i in range(mrf.shape[0]):\n",
        "  for j in range(mrf.shape[1]):\n",
        "    mrf[i, j] = np.random.choice([-1, 1])\n",
        "\n",
        "mrf"
      ],
      "metadata": {
        "id": "_5YjCrkddL-Y",
        "outputId": "db68d316-75a0-4799-e736-eb4dcb76dfe8",
        "colab": {
          "base_uri": "https://localhost:8080/"
        }
      },
      "execution_count": 17,
      "outputs": [
        {
          "output_type": "execute_result",
          "data": {
            "text/plain": [
              "array([[-1., -1.,  1., -1.,  1.,  1., -1.,  1., -1.,  1.],\n",
              "       [-1., -1.,  1., -1., -1.,  1., -1., -1.,  1., -1.],\n",
              "       [ 1.,  1.,  1., -1., -1.,  1., -1., -1.,  1.,  1.],\n",
              "       [ 1.,  1.,  1.,  1., -1.,  1.,  1., -1., -1., -1.],\n",
              "       [-1.,  1., -1., -1., -1.,  1.,  1., -1., -1.,  1.],\n",
              "       [-1.,  1., -1.,  1.,  1.,  1.,  1., -1., -1.,  1.],\n",
              "       [ 1.,  1., -1.,  1., -1.,  1., -1.,  1.,  1.,  1.],\n",
              "       [ 1.,  1., -1.,  1.,  1., -1.,  1.,  1.,  1., -1.],\n",
              "       [ 1., -1., -1.,  1., -1.,  1., -1.,  1., -1., -1.],\n",
              "       [ 1., -1.,  1.,  1.,  1., -1.,  1., -1.,  1.,  1.]])"
            ]
          },
          "metadata": {},
          "execution_count": 17
        }
      ]
    },
    {
      "cell_type": "code",
      "source": [
        "def initial_state(N):\n",
        "    return np.random.choice([-1, 1], size=(N, N))\n",
        "state = initial_state(10)\n",
        "state"
      ],
      "metadata": {
        "id": "PMM1juuOm_gq",
        "outputId": "4db84fa9-e100-44d7-e055-e0406dfd002f",
        "colab": {
          "base_uri": "https://localhost:8080/"
        }
      },
      "execution_count": 32,
      "outputs": [
        {
          "output_type": "execute_result",
          "data": {
            "text/plain": [
              "array([[ 1,  1, -1,  1,  1, -1, -1,  1, -1, -1],\n",
              "       [ 1,  1,  1,  1, -1, -1,  1, -1, -1, -1],\n",
              "       [ 1,  1, -1,  1, -1,  1, -1,  1, -1, -1],\n",
              "       [ 1,  1,  1, -1,  1,  1,  1,  1, -1,  1],\n",
              "       [ 1,  1,  1, -1,  1,  1, -1, -1,  1, -1],\n",
              "       [ 1,  1, -1, -1,  1, -1, -1, -1, -1,  1],\n",
              "       [ 1,  1,  1, -1, -1, -1,  1, -1,  1,  1],\n",
              "       [-1, -1, -1,  1,  1,  1, -1,  1, -1,  1],\n",
              "       [-1, -1,  1,  1,  1, -1,  1,  1,  1,  1],\n",
              "       [ 1,  1,  1, -1,  1, -1,  1, -1,  1, -1]])"
            ]
          },
          "metadata": {},
          "execution_count": 32
        }
      ]
    },
    {
      "cell_type": "code",
      "source": [
        "def potential_grid(beta):\n",
        "    return np.exp(beta * np.eye(2))"
      ],
      "metadata": {
        "id": "_cNWQjSjJJFT"
      },
      "execution_count": 18,
      "outputs": []
    },
    {
      "cell_type": "code",
      "source": [
        "potentials = potential_grid(1)"
      ],
      "metadata": {
        "id": "q3J_wRdNJJtS"
      },
      "execution_count": 26,
      "outputs": []
    },
    {
      "cell_type": "code",
      "source": [
        "p_tilde = np.prod(potential_grid(1))"
      ],
      "metadata": {
        "id": "htbRzBpFJJ2a"
      },
      "execution_count": 21,
      "outputs": []
    },
    {
      "cell_type": "code",
      "source": [
        "p = p_tilde / (p_tilde + 1)\n",
        "p"
      ],
      "metadata": {
        "id": "gztz_Di1JJ9a",
        "outputId": "5ae64ced-d017-401e-de46-90e278d3f6e8",
        "colab": {
          "base_uri": "https://localhost:8080/"
        }
      },
      "execution_count": 23,
      "outputs": [
        {
          "output_type": "execute_result",
          "data": {
            "text/plain": [
              "0.8807970779778825"
            ]
          },
          "metadata": {},
          "execution_count": 23
        }
      ]
    },
    {
      "cell_type": "code",
      "source": [
        "N = 10\n",
        "test = np.random.choice([-1, 1], size=(N, N))"
      ],
      "metadata": {
        "id": "f2-mE3o0lV9d"
      },
      "execution_count": 25,
      "outputs": []
    },
    {
      "cell_type": "code",
      "source": [
        "nn_potentials = []\n",
        "for n in get_nearest_neighbors(2, 2, N):\n",
        "  nn_potentials.append(potentials[state[i, j], state[n[0], n[1]]])"
      ],
      "metadata": {
        "id": "2RXCAz3FmeXp"
      },
      "execution_count": 33,
      "outputs": []
    },
    {
      "cell_type": "markdown",
      "source": [],
      "metadata": {
        "id": "BLUvwEtQm1iK"
      }
    },
    {
      "cell_type": "code",
      "source": [
        "nn_potentials"
      ],
      "metadata": {
        "id": "mze7X5wvnG7f",
        "outputId": "512b80e3-3210-4740-aa2f-7b37dff4f0eb",
        "colab": {
          "base_uri": "https://localhost:8080/"
        }
      },
      "execution_count": 34,
      "outputs": [
        {
          "output_type": "execute_result",
          "data": {
            "text/plain": [
              "[2.718281828459045, 2.718281828459045, 2.718281828459045, 2.718281828459045]"
            ]
          },
          "metadata": {},
          "execution_count": 34
        }
      ]
    },
    {
      "cell_type": "code",
      "source": [
        "state"
      ],
      "metadata": {
        "id": "DiQeQXuynIWw",
        "outputId": "295ba30e-0aa2-4478-fac1-b83c3a1d6b30",
        "colab": {
          "base_uri": "https://localhost:8080/"
        }
      },
      "execution_count": 35,
      "outputs": [
        {
          "output_type": "execute_result",
          "data": {
            "text/plain": [
              "array([[ 1,  1, -1,  1,  1, -1, -1,  1, -1, -1],\n",
              "       [ 1,  1,  1,  1, -1, -1,  1, -1, -1, -1],\n",
              "       [ 1,  1, -1,  1, -1,  1, -1,  1, -1, -1],\n",
              "       [ 1,  1,  1, -1,  1,  1,  1,  1, -1,  1],\n",
              "       [ 1,  1,  1, -1,  1,  1, -1, -1,  1, -1],\n",
              "       [ 1,  1, -1, -1,  1, -1, -1, -1, -1,  1],\n",
              "       [ 1,  1,  1, -1, -1, -1,  1, -1,  1,  1],\n",
              "       [-1, -1, -1,  1,  1,  1, -1,  1, -1,  1],\n",
              "       [-1, -1,  1,  1,  1, -1,  1,  1,  1,  1],\n",
              "       [ 1,  1,  1, -1,  1, -1,  1, -1,  1, -1]])"
            ]
          },
          "metadata": {},
          "execution_count": 35
        }
      ]
    },
    {
      "cell_type": "code",
      "source": [
        "import random\n",
        "def gibbs_sampling(max_iter=10000, burn_in=1000, beta=1.0, N=10):\n",
        "\n",
        "    # initialise the state\n",
        "    state = initial_state(N)\n",
        "    initial = state.copy()\n",
        "\n",
        "    p_list = []\n",
        "\n",
        "    potentials = potential_grid(beta)\n",
        "\n",
        "    samples = []\n",
        "    for _ in range(max_iter):\n",
        "        flip_count = 0\n",
        "        for i in range(N):\n",
        "            for j in range(N):\n",
        "                # compute the conditional probability\n",
        "                # p(x_ij = 1 | x_-ij) proportional to product of NN potentials\n",
        "                nn_potentials = []\n",
        "                for n in get_nearest_neighbors(i, j, N):\n",
        "                    nn_potentials.append(potentials[state[i, j], state[n[0], n[1]]])\n",
        "                p_tilde = np.prod(nn_potentials)\n",
        "                # normalise\n",
        "                p = p_tilde / (p_tilde + 1)\n",
        "                p_list.append(p)\n",
        "                # sample from the conditional distribution\n",
        "                new_state = np.random.choice([-1, 1], p=[1-p, p])\n",
        "                # if state flips update the state and flip count\n",
        "                if new_state != state[i, j]:\n",
        "                    flip_count += 1\n",
        "                    state[i, j] = new_state\n",
        "        # store the state\n",
        "        samples.append(state.copy())\n",
        "        # if no state flips in the last iteration break - fully converged\n",
        "        if len(samples) > burn_in and flip_count == 0:\n",
        "            break\n",
        "\n",
        "    return samples[burn_in:], initial, p_list"
      ],
      "metadata": {
        "id": "e1HwpTcDnKYw"
      },
      "execution_count": 37,
      "outputs": []
    },
    {
      "cell_type": "code",
      "source": [
        "samples, initial, p = gibbs_sampling(max_iter=1000, burn_in=100, beta=1, N=10)"
      ],
      "metadata": {
        "id": "1vvze5gBop5q"
      },
      "execution_count": 54,
      "outputs": []
    },
    {
      "cell_type": "code",
      "source": [
        "p[1]"
      ],
      "metadata": {
        "id": "QjtVtjvLoyFN",
        "outputId": "3e27ac82-3763-4618-f246-ee0328f18e1f",
        "colab": {
          "base_uri": "https://localhost:8080/"
        }
      },
      "execution_count": 55,
      "outputs": [
        {
          "output_type": "execute_result",
          "data": {
            "text/plain": [
              "0.9525741268224333"
            ]
          },
          "metadata": {},
          "execution_count": 55
        }
      ]
    },
    {
      "cell_type": "code",
      "source": [
        "plt.scatter(np.linspace(1, len(p), len(p)), p)"
      ],
      "metadata": {
        "id": "4H6ElAbwoyZk",
        "outputId": "db7b9c4b-d1b2-4920-dd3c-ec1765ef1534",
        "colab": {
          "base_uri": "https://localhost:8080/",
          "height": 448
        }
      },
      "execution_count": 56,
      "outputs": [
        {
          "output_type": "execute_result",
          "data": {
            "text/plain": [
              "<matplotlib.collections.PathCollection at 0x798cf8d6d210>"
            ]
          },
          "metadata": {},
          "execution_count": 56
        },
        {
          "output_type": "display_data",
          "data": {
            "text/plain": [
              "<Figure size 640x480 with 1 Axes>"
            ],
            "image/png": "[encoded data removed]"
          },
          "metadata": {}
        }
      ]
    },
    {
      "cell_type": "code",
      "source": [
        "samples[-1]"
      ],
      "metadata": {
        "id": "t_YHyNh-pC9X",
        "outputId": "e525ce13-0697-45b4-ec98-d81ea576d7c0",
        "colab": {
          "base_uri": "https://localhost:8080/"
        }
      },
      "execution_count": 59,
      "outputs": [
        {
          "output_type": "execute_result",
          "data": {
            "text/plain": [
              "array([[ 1,  1,  1,  1,  1,  1,  1,  1,  1, -1],\n",
              "       [ 1,  1,  1,  1,  1,  1,  1,  1,  1,  1],\n",
              "       [ 1,  1,  1,  1,  1,  1,  1,  1,  1,  1],\n",
              "       [ 1,  1,  1,  1,  1,  1,  1,  1,  1,  1],\n",
              "       [ 1,  1,  1,  1,  1,  1,  1,  1,  1,  1],\n",
              "       [ 1,  1,  1,  1,  1,  1,  1,  1,  1,  1],\n",
              "       [ 1,  1,  1,  1,  1,  1,  1,  1,  1,  1],\n",
              "       [ 1,  1,  1,  1,  1,  1,  1,  1,  1,  1],\n",
              "       [ 1,  1,  1,  1,  1,  1,  1,  1,  1,  1],\n",
              "       [ 1,  1,  1,  1,  1,  1,  1,  1,  1,  1]])"
            ]
          },
          "metadata": {},
          "execution_count": 59
        }
      ]
    },
    {
      "cell_type": "code",
      "source": [],
      "metadata": {
        "id": "2kh6AgYjpoQX"
      },
      "execution_count": null,
      "outputs": []
    }
  ],
  "metadata": {
    "colab": {
      "name": "Welcome to Colaboratory",
      "provenance": [],
      "include_colab_link": true
    },
    "kernelspec": {
      "display_name": "Python 3",
      "name": "python3"
    }
  },
  "nbformat": 4,
  "nbformat_minor": 0
}