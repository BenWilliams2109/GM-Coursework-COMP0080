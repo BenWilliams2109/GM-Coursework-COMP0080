{
 "cells": [
  {
   "cell_type": "markdown",
   "id": "ff101d31",
   "metadata": {},
   "source": [
    "## Ising Model Inference"
   ]
  },
  {
   "cell_type": "code",
   "execution_count": 72,
   "id": "976ffb70",
   "metadata": {},
   "outputs": [],
   "source": [
    "import numpy as np\n",
    "import matplotlib.pyplot as plt\n",
    "import matplotlib.gridspec as gridspec\n",
    "from tqdm import tqdm\n",
    "import pandas as pd"
   ]
  },
  {
   "cell_type": "code",
   "execution_count": 2,
   "id": "f40c1651",
   "metadata": {},
   "outputs": [],
   "source": [
    "Gx, Gy = 4, 4\n",
    "neighbours = np.zeros((Gx*Gy,Gx*Gy))\n",
    "states = np.arange(Gx*Gy).reshape((Gx, Gy), order=\"F\").astype(int)"
   ]
  },
  {
   "cell_type": "code",
   "execution_count": 3,
   "id": "ff05c1dd",
   "metadata": {},
   "outputs": [
    {
     "name": "stdout",
     "output_type": "stream",
     "text": [
      "[[0 1 0 0 1 0 0 0 0 0 0 0 0 0 0 0]\n",
      " [1 0 1 0 0 1 0 0 0 0 0 0 0 0 0 0]\n",
      " [0 1 0 1 0 0 1 0 0 0 0 0 0 0 0 0]\n",
      " [0 0 1 0 0 0 0 1 0 0 0 0 0 0 0 0]\n",
      " [1 0 0 0 0 1 0 0 1 0 0 0 0 0 0 0]\n",
      " [0 1 0 0 1 0 1 0 0 1 0 0 0 0 0 0]\n",
      " [0 0 1 0 0 1 0 1 0 0 1 0 0 0 0 0]\n",
      " [0 0 0 1 0 0 1 0 0 0 0 1 0 0 0 0]\n",
      " [0 0 0 0 1 0 0 0 0 1 0 0 1 0 0 0]\n",
      " [0 0 0 0 0 1 0 0 1 0 1 0 0 1 0 0]\n",
      " [0 0 0 0 0 0 1 0 0 1 0 1 0 0 1 0]\n",
      " [0 0 0 0 0 0 0 1 0 0 1 0 0 0 0 1]\n",
      " [0 0 0 0 0 0 0 0 1 0 0 0 0 1 0 0]\n",
      " [0 0 0 0 0 0 0 0 0 1 0 0 1 0 1 0]\n",
      " [0 0 0 0 0 0 0 0 0 0 1 0 0 1 0 1]\n",
      " [0 0 0 0 0 0 0 0 0 0 0 1 0 0 1 0]]\n"
     ]
    }
   ],
   "source": [
    "for i in range(0, Gx):\n",
    "\n",
    "    for j in range(0, Gy):\n",
    "\n",
    "        if (i-1 >= 0) and (j < Gy):\n",
    "            neighbours[states[i-1][j], states[i][j]] = 1\n",
    "            \n",
    "        if (i+1 < Gx) and (j < Gy):\n",
    "            neighbours[states[i+1][j], states[i][j]] = 1\n",
    "            \n",
    "        if (j-1 >= 0) and (i < Gx):\n",
    "            neighbours[states[i][j-1], states[i][j]] = 1\n",
    "            \n",
    "        if (j+1 < Gy) and (i < Gx):\n",
    "            neighbours[states[i][j+1], states[i][j]] = 1\n",
    "            \n",
    "normed_neighbours = neighbours / np.sum(neighbours, axis=1)\n",
    "rounded = np.round(neighbours, 2).astype(int)\n",
    "print(rounded.astype(int))"
   ]
  },
  {
   "cell_type": "code",
   "execution_count": 4,
   "id": "85631ab1",
   "metadata": {},
   "outputs": [
    {
     "data": {
      "image/png": "[encoded data removed]",
      "text/plain": [
       "<Figure size 640x480 with 1 Axes>"
      ]
     },
     "metadata": {},
     "output_type": "display_data"
    }
   ],
   "source": [
    "fig, ax = plt.subplots()\n",
    "im = ax.imshow(rounded)\n",
    "\n",
    "for i in range(rounded.shape[0]):\n",
    "    for j in range(rounded.shape[1]):\n",
    "        text = ax.text(j, i, rounded[i, j],\n",
    "        ha=\"center\", va=\"center\", color=\"w\")"
   ]
  },
  {
   "cell_type": "markdown",
   "id": "c7cab057",
   "metadata": {},
   "source": [
    "### Singly connected graph"
   ]
  },
  {
   "cell_type": "code",
   "execution_count": 5,
   "id": "a610c333",
   "metadata": {},
   "outputs": [],
   "source": [
    "\n",
    "\n",
    "def phi(x, y):\n",
    "    # exp(beta*I(x==y))\n",
    "    return np.exp((beta/4)*(x-y)**2)"
   ]
  },
  {
   "cell_type": "code",
   "execution_count": 6,
   "id": "df7ca841",
   "metadata": {},
   "outputs": [],
   "source": [
    "beta = 0.01\n",
    "states = [-1, 1]\n",
    "p = [1/3, 2/2]\n",
    "\n",
    "def message_pass(length, edge_p):\n",
    "    \n",
    "    gammas = []\n",
    "    back_prop = []\n",
    "    \n",
    "    gammas.append({\n",
    "        \"message\": \"p(2|1)*p(1)\",\n",
    "        \"0\": [np.exp(beta)*p[0], p[1]], # gamma_b(a=1)\n",
    "        \"1\": [p[0], np.exp(beta)*p[1]] # gamma_b(a=-1)\n",
    "    })\n",
    "    \n",
    "    # Normalisation\n",
    "    norm = sum(gammas[-1][\"0\"]) + sum(gammas[-1][\"1\"])\n",
    "    gammas[-1][\"0\"] = gammas[-1][\"0\"]/norm\n",
    "    gammas[-1][\"1\"] = gammas[-1][\"1\"]/norm\n",
    "    \n",
    "    for i in range(1, length-1):\n",
    "\n",
    "        gammas.append({\n",
    "            \"message\": \"p(\" + str(i+2) + \"|\" + str(i+1) + \")*γ_\" + str(i) + \"(\" + str(i+1) + \")\",\n",
    "            \"0\": [np.exp(beta)*np.max(gammas[i-1][\"0\"]), 1*np.max(gammas[i-1][\"1\"])],\n",
    "            \"1\": [1*np.max(gammas[i-1][\"0\"]), np.exp(beta)*np.max(gammas[i-1][\"1\"])]\n",
    "        })\n",
    "    \n",
    "        # Normalisation\n",
    "        norm = sum(gammas[-1][\"0\"]) + sum(gammas[-1][\"1\"])\n",
    "        #norm = [1, 1]\n",
    "        gammas[-1][\"0\"] = gammas[-1][\"0\"]/norm\n",
    "        gammas[-1][\"1\"] = gammas[-1][\"1\"]/norm\n",
    "    \n",
    "    # Backwards pass\n",
    "    to_max = [np.max(gammas[-i][\"0\"]), np.max(gammas[-i][\"1\"])]\n",
    "    back_prop.append(str(np.argmax(to_max)))\n",
    "    \n",
    "    for i in range(2, length):\n",
    "        \n",
    "        to_max = [np.max(gammas[-i][back_prop[i-2]]), np.max(gammas[-i][back_prop[i-2]])]\n",
    "        back_prop.append(str(np.argmax(to_max)))\n",
    "        \n",
    "    for i in range(0, length-1):\n",
    "        gammas[i][\"0\"] = np.round(gammas[i][\"0\"], 3)\n",
    "        gammas[i][\"1\"] = np.round(gammas[i][\"1\"], 3)\n",
    "    \n",
    "    return gammas, back_prop\n"
   ]
  },
  {
   "cell_type": "code",
   "execution_count": 7,
   "id": "bffe0e59",
   "metadata": {},
   "outputs": [],
   "source": [
    "g, b = message_pass(10, phi)"
   ]
  },
  {
   "cell_type": "code",
   "execution_count": 8,
   "id": "cc602e65",
   "metadata": {},
   "outputs": [
    {
     "data": {
      "text/plain": [
       "[{'message': 'p(2|1)*p(1)',\n",
       "  '0': array([0.126, 0.373]),\n",
       "  '1': array([0.124, 0.377])},\n",
       " {'message': 'p(3|2)*γ_1(2)',\n",
       "  '0': array([0.25, 0.25]),\n",
       "  '1': array([0.248, 0.253])},\n",
       " {'message': 'p(4|3)*γ_2(3)',\n",
       "  '0': array([0.25, 0.25]),\n",
       "  '1': array([0.248, 0.253])},\n",
       " {'message': 'p(5|4)*γ_3(4)',\n",
       "  '0': array([0.25, 0.25]),\n",
       "  '1': array([0.248, 0.253])},\n",
       " {'message': 'p(6|5)*γ_4(5)',\n",
       "  '0': array([0.25, 0.25]),\n",
       "  '1': array([0.248, 0.253])},\n",
       " {'message': 'p(7|6)*γ_5(6)',\n",
       "  '0': array([0.25, 0.25]),\n",
       "  '1': array([0.248, 0.253])},\n",
       " {'message': 'p(8|7)*γ_6(7)',\n",
       "  '0': array([0.25, 0.25]),\n",
       "  '1': array([0.248, 0.253])},\n",
       " {'message': 'p(9|8)*γ_7(8)',\n",
       "  '0': array([0.25, 0.25]),\n",
       "  '1': array([0.248, 0.253])},\n",
       " {'message': 'p(10|9)*γ_8(9)',\n",
       "  '0': array([0.25, 0.25]),\n",
       "  '1': array([0.248, 0.253])}]"
      ]
     },
     "execution_count": 8,
     "metadata": {},
     "output_type": "execute_result"
    }
   ],
   "source": [
    "g"
   ]
  },
  {
   "cell_type": "code",
   "execution_count": 9,
   "id": "5948672d",
   "metadata": {},
   "outputs": [
    {
     "data": {
      "text/plain": [
       "array([-1,  1,  1,  1,  1,  1,  1,  1,  1])"
      ]
     },
     "execution_count": 9,
     "metadata": {},
     "output_type": "execute_result"
    }
   ],
   "source": [
    "-2*np.array([int(x) for x in b]) + 1"
   ]
  },
  {
   "cell_type": "markdown",
   "id": "d2795fc6",
   "metadata": {},
   "source": [
    "## Mean Field Approximation"
   ]
  },
  {
   "cell_type": "code",
   "execution_count": null,
   "id": "1d3bac4b",
   "metadata": {},
   "outputs": [],
   "source": []
  },
  {
   "cell_type": "code",
   "execution_count": 46,
   "id": "63cff46a",
   "metadata": {},
   "outputs": [],
   "source": [
    "def proposal_distribution(alpha):\n",
    "    q = np.exp(alpha) / (np.exp(alpha) + np.exp(-alpha))\n",
    "    return q"
   ]
  },
  {
   "cell_type": "code",
   "execution_count": 65,
   "id": "5edf242f",
   "metadata": {},
   "outputs": [],
   "source": [
    "def mean_field_approx(max_iter=10, beta=1, N=10):\n",
    "    \n",
    "    # initialise the state\n",
    "    state = initial_state(N)\n",
    "    initial = state.copy()\n",
    "\n",
    "    potentials = boltzmann(beta)\n",
    "    samples = []\n",
    "    # Initial alpha\n",
    "    alpha = 100\n",
    "    \n",
    "    # Initial spin distribution of each individual spin being in +1 state\n",
    "    qn = np.ones((N, N)) * (1 / (1 + np.exp(-2*alpha)))\n",
    "    \n",
    "    for _ in tqdm(range(max_iter)):\n",
    "\n",
    "        for i in range(N):\n",
    "            for j in range(N):\n",
    "                \n",
    "                qn[i,j] = 0                \n",
    "\n",
    "                for n in get_nearest_neighbours(i, j, N):\n",
    "                    \n",
    "                    qn[i,j] += beta * np.tanh(qn[n[0],n[1]])\n",
    "                    \n",
    "                u = np.random.uniform()\n",
    "                q = qn[i,j]\n",
    "                if u < q:\n",
    "                    state[i,j] = 1\n",
    "                else:\n",
    "                    state[i,j] = -1\n",
    "                    \n",
    "    return qn"
   ]
  },
  {
   "cell_type": "code",
   "execution_count": 66,
   "id": "8b6de13e",
   "metadata": {},
   "outputs": [
    {
     "name": "stderr",
     "output_type": "stream",
     "text": [
      "100%|█████████████████████████████████████████████████████████████████████████████████| 10/10 [00:00<00:00, 377.42it/s]\n"
     ]
    },
    {
     "data": {
      "text/plain": [
       "array([[0.98162953, 0.99730869, 0.99747193, 0.99747358, 0.99747359,\n",
       "        0.99747359, 0.99747358, 0.99747193, 0.99730869, 0.98162953],\n",
       "       [0.99730869, 0.99965642, 0.99965986, 0.99965986, 0.99965986,\n",
       "        0.99965986, 0.99965986, 0.99965986, 0.99965642, 0.99730869],\n",
       "       [0.99747193, 0.99965986, 0.99966283, 0.99966283, 0.99966283,\n",
       "        0.99966283, 0.99966283, 0.99966283, 0.99965986, 0.99747193],\n",
       "       [0.99747358, 0.99965986, 0.99966283, 0.99966284, 0.99966284,\n",
       "        0.99966284, 0.99966284, 0.99966283, 0.99965986, 0.99747358],\n",
       "       [0.99747359, 0.99965986, 0.99966283, 0.99966284, 0.99966284,\n",
       "        0.99966284, 0.99966284, 0.99966283, 0.99965986, 0.99747359],\n",
       "       [0.99747359, 0.99965986, 0.99966283, 0.99966284, 0.99966284,\n",
       "        0.99966284, 0.99966284, 0.99966283, 0.99965986, 0.99747359],\n",
       "       [0.99747358, 0.99965986, 0.99966283, 0.99966284, 0.99966284,\n",
       "        0.99966284, 0.99966284, 0.99966283, 0.99965986, 0.99747358],\n",
       "       [0.99747193, 0.99965986, 0.99966283, 0.99966283, 0.99966283,\n",
       "        0.99966283, 0.99966283, 0.99966283, 0.99965986, 0.99747193],\n",
       "       [0.99730869, 0.99965642, 0.99965986, 0.99965986, 0.99965986,\n",
       "        0.99965986, 0.99965986, 0.99965986, 0.99965642, 0.99730869],\n",
       "       [0.98162953, 0.99730869, 0.99747193, 0.99747358, 0.99747359,\n",
       "        0.99747359, 0.99747358, 0.99747193, 0.99730869, 0.98162953]])"
      ]
     },
     "execution_count": 66,
     "metadata": {},
     "output_type": "execute_result"
    }
   ],
   "source": [
    "a = mean_field_approx()\n",
    "proposal_distribution(a)"
   ]
  },
  {
   "cell_type": "code",
   "execution_count": 61,
   "id": "73413a56",
   "metadata": {},
   "outputs": [
    {
     "data": {
      "text/plain": [
       "array([[0.98162953, 0.99730869, 0.99747193, 0.99747358, 0.99747359,\n",
       "        0.99747359, 0.99747358, 0.99747193, 0.99730869, 0.98162953],\n",
       "       [0.99730869, 0.99965642, 0.99965986, 0.99965986, 0.99965986,\n",
       "        0.99965986, 0.99965986, 0.99965986, 0.99965642, 0.99730869],\n",
       "       [0.99747193, 0.99965986, 0.99966283, 0.99966283, 0.99966283,\n",
       "        0.99966283, 0.99966283, 0.99966283, 0.99965986, 0.99747193],\n",
       "       [0.99747358, 0.99965986, 0.99966283, 0.99966284, 0.99966284,\n",
       "        0.99966284, 0.99966284, 0.99966283, 0.99965986, 0.99747358],\n",
       "       [0.99747359, 0.99965986, 0.99966283, 0.99966284, 0.99966284,\n",
       "        0.99966284, 0.99966284, 0.99966283, 0.99965986, 0.99747359],\n",
       "       [0.99747359, 0.99965986, 0.99966283, 0.99966284, 0.99966284,\n",
       "        0.99966284, 0.99966284, 0.99966283, 0.99965986, 0.99747359],\n",
       "       [0.99747358, 0.99965986, 0.99966283, 0.99966284, 0.99966284,\n",
       "        0.99966284, 0.99966284, 0.99966283, 0.99965986, 0.99747358],\n",
       "       [0.99747193, 0.99965986, 0.99966283, 0.99966283, 0.99966283,\n",
       "        0.99966283, 0.99966283, 0.99966283, 0.99965986, 0.99747193],\n",
       "       [0.99730869, 0.99965642, 0.99965986, 0.99965986, 0.99965986,\n",
       "        0.99965986, 0.99965986, 0.99965986, 0.99965642, 0.99730869],\n",
       "       [0.98162953, 0.99730869, 0.99747193, 0.99747358, 0.99747359,\n",
       "        0.99747359, 0.99747358, 0.99747193, 0.99730869, 0.98162953]])"
      ]
     },
     "execution_count": 61,
     "metadata": {},
     "output_type": "execute_result"
    }
   ],
   "source": []
  },
  {
   "cell_type": "markdown",
   "id": "87aa0b3d",
   "metadata": {},
   "source": [
    "## Gibb's Sampling"
   ]
  },
  {
   "cell_type": "code",
   "execution_count": 34,
   "id": "2c151230",
   "metadata": {},
   "outputs": [],
   "source": [
    "def get_nearest_neighbours(i, j, N):\n",
    "    # only right and below neighbours to avoid double counting\n",
    "    neighbors = []\n",
    "    if i > 0:\n",
    "        neighbors.append((i-1, j))\n",
    "    if i < N-1:\n",
    "        neighbors.append((i+1, j))\n",
    "    if j > 0:\n",
    "        neighbors.append((i, j-1))\n",
    "    if j < N-1:\n",
    "        neighbors.append((i, j+1))\n",
    "        \n",
    "    return neighbors"
   ]
  },
  {
   "cell_type": "code",
   "execution_count": 11,
   "id": "220b347d",
   "metadata": {},
   "outputs": [],
   "source": [
    "def potential_grid2(beta):\n",
    "    return {'11': np.exp(beta),\n",
    "           '1-1': np.exp(0),\n",
    "           '-11': np.exp(0),\n",
    "           '-1-1': np.exp(beta)}"
   ]
  },
  {
   "cell_type": "code",
   "execution_count": 12,
   "id": "7ac1eff0",
   "metadata": {},
   "outputs": [],
   "source": [
    "def initial_state(N):\n",
    "    return np.random.choice([-1, 1], size=(N, N))"
   ]
  },
  {
   "cell_type": "code",
   "execution_count": 13,
   "id": "6a5df4d5",
   "metadata": {},
   "outputs": [],
   "source": [
    "betas = [4, 1, 0.01]"
   ]
  },
  {
   "cell_type": "code",
   "execution_count": 14,
   "id": "e4e8463e",
   "metadata": {},
   "outputs": [],
   "source": [
    "def boltzmann(beta):\n",
    "    return {'11': np.exp(beta),\n",
    "           '1-1': np.exp(0),\n",
    "           '-11': np.exp(0),\n",
    "           '-1-1': np.exp(beta)}"
   ]
  },
  {
   "cell_type": "code",
   "execution_count": 15,
   "id": "22d8a2f9",
   "metadata": {},
   "outputs": [],
   "source": [
    "def gibbs_sampling(max_iter=10000, burn_in=100, beta=1.0, N=10):\n",
    "\n",
    "    # initialise the state\n",
    "    state = initial_state(N)\n",
    "    initial = state.copy()\n",
    "\n",
    "    potentials = boltzmann(beta)\n",
    "    samples = []\n",
    "    \n",
    "    print(\"Processing...\")\n",
    "    for _ in range(max_iter):\n",
    "        \n",
    "        # Draw a coordinate at random \n",
    "        i, j = np.random.randint(0, N, size=2)\n",
    "        \n",
    "#         # Calculate the conditional probability\n",
    "#         ps_plus, ps_minus = [], []\n",
    "        \n",
    "#         # Find all edge potentials between element i,j and it's nearest neighbours\n",
    "#         for n in get_nearest_neighbours(i, j, N):\n",
    "            \n",
    "#             ps_plus.append(potentials[\"1\" + str(state[n[0], n[1]])])\n",
    "#             ps_minus.append(potentials[\"-1\" + str(state[n[0], n[1]])])\n",
    "        \n",
    "#         # Take the product of the edge potentials and calculate p_tilde\n",
    "#         p_tilde = np.prod(ps_plus) / np.prod(ps_minus)\n",
    "        \n",
    "#         # Calculate p using the formuala p = p_tilde / (1 + p_tilde)\n",
    "#         p = p_tilde / (1 + p_tilde)\n",
    "\n",
    "        # Alternative Method: calculate the free energy for si+ and si-\n",
    "        E_splus, E_sminus = 0, 0\n",
    "        J = 1\n",
    "        \n",
    "        for n in get_nearest_neighbours(i, j, N):\n",
    "            E_splus += -0.5 * 1 * state[n[0], n[1]]\n",
    "            E_sminus += -0.5 * -1 * state[n[0], n[1]]\n",
    "        \n",
    "        # Calculate delta E\n",
    "        dE = E_splus - E_sminus\n",
    "        \n",
    "        # Conditional P\n",
    "        cond_p = 1 / (1 + np.exp(beta * dE))\n",
    "        \n",
    "        # Draw a value U from a uniform distribution\n",
    "        U = np.random.uniform()\n",
    "        \n",
    "        if U <= cond_p:\n",
    "            state[i, j] = 1\n",
    "        else:\n",
    "            state[i, j] = -1\n",
    "\n",
    "        #store the state\n",
    "        samples.append(state.copy())\n",
    "        # if no state flips in the last iteration break - fully converged\n",
    "    print(\"Finished \\n\")\n",
    "    #return samples[burn_in:], initial, state\n",
    "    return samples, initial, state"
   ]
  },
  {
   "cell_type": "code",
   "execution_count": 23,
   "id": "aa06da16",
   "metadata": {},
   "outputs": [
    {
     "name": "stdout",
     "output_type": "stream",
     "text": [
      "Processing...\n",
      "Finished \n",
      "\n",
      "Processing...\n",
      "Finished \n",
      "\n",
      "Processing...\n",
      "Finished \n",
      "\n"
     ]
    }
   ],
   "source": [
    "samps = []\n",
    "finals = []\n",
    "\n",
    "for beta in betas:\n",
    "\n",
    "    samples, initial, final = gibbs_sampling(max_iter=3000000, burn_in=100, beta=beta, N=10)\n",
    "    samps.append([samples])\n",
    "    finals.append(final)"
   ]
  },
  {
   "cell_type": "code",
   "execution_count": 24,
   "id": "2d1c53ca",
   "metadata": {},
   "outputs": [
    {
     "data": {
      "image/png": "[encoded data removed]",
      "text/plain": [
       "<Figure size 640x480 with 3 Axes>"
      ]
     },
     "metadata": {},
     "output_type": "display_data"
    }
   ],
   "source": [
    "fig = plt.figure()\n",
    "count = 0\n",
    "rows, cols = 1, 3\n",
    "\n",
    "for i in range(rows):\n",
    "    for j in range(cols):\n",
    "        plt.subplot(rows, cols, count + 1)\n",
    "        plt.imshow(-1/finals[count], cmap=\"Greys_r\")\n",
    "        plt.title(\"Beta=\" + str(betas[count]))# + \", Temp=\" + str(1/betas[count]))\n",
    "        \n",
    "        ax = plt.gca()\n",
    "\n",
    "        # Hide X and Y axes label marks\n",
    "        ax.xaxis.set_tick_params(labelbottom=False)\n",
    "        ax.yaxis.set_tick_params(labelleft=False)\n",
    "\n",
    "        # Hide X and Y axes tick marks\n",
    "        ax.set_xticks([])\n",
    "        ax.set_yticks([])\n",
    "        \n",
    "        count += 1\n",
    "        \n",
    "plt.tight_layout()\n",
    "plt.show()"
   ]
  },
  {
   "cell_type": "code",
   "execution_count": 25,
   "id": "0f42cec3",
   "metadata": {},
   "outputs": [],
   "source": [
    "def prob_distribution(samples, N=10):\n",
    "    # compute the empirical distribution by counting the number of times each state is positive\n",
    "    \n",
    "    for i in range(len(samples)):\n",
    "        samples[i] = (samples[i] == 1).astype(int)\n",
    "    \n",
    "    p = np.sum(samples, axis=0) / len(samples)\n",
    "\n",
    "    return p"
   ]
  },
  {
   "cell_type": "code",
   "execution_count": 26,
   "id": "e473e45c",
   "metadata": {},
   "outputs": [
    {
     "name": "stdout",
     "output_type": "stream",
     "text": [
      "Processing...\n",
      "Completed\n",
      "Processing...\n",
      "Completed\n",
      "Processing...\n",
      "Completed\n"
     ]
    }
   ],
   "source": [
    "marginals = []\n",
    "joints = []\n",
    "\n",
    "for i in range(3):\n",
    "    print(\"Processing...\")\n",
    "    margs = prob_distribution(samps[i][0])\n",
    "    joint = margs[0,9]*margs[9,9]\n",
    "    \n",
    "    marginals.append(margs)\n",
    "    joints.append(joint)\n",
    "    print(\"Completed\")"
   ]
  },
  {
   "cell_type": "code",
   "execution_count": 27,
   "id": "1d47e919",
   "metadata": {},
   "outputs": [
    {
     "name": "stdout",
     "output_type": "stream",
     "text": [
      "Beta = 4\n",
      "Top right: 0.00039466666666666665\n",
      "Bottom right: 0.0004366666666666667\n",
      "\n",
      "Beta = 1\n",
      "Top right: 0.38539666666666667\n",
      "Bottom right: 0.3989063333333333\n",
      "\n",
      "Beta = 0.01\n",
      "Top right: 0.494846\n",
      "Bottom right: 0.4941836666666667\n",
      "\n"
     ]
    }
   ],
   "source": [
    "for i in range(3):\n",
    "    print(\"Beta = \" + str(betas[i]))\n",
    "    print(\"Top right: \" + str(marginals[i][0, 9]))\n",
    "    print(\"Bottom right: \" + str(marginals[i][9, 9]) + \"\\n\")"
   ]
  },
  {
   "cell_type": "code",
   "execution_count": 89,
   "id": "6078db85",
   "metadata": {},
   "outputs": [
    {
     "name": "stdout",
     "output_type": "stream",
     "text": [
      "Beta=4\n",
      "[[1.72337778e-07 3.94494329e-04]\n",
      " [4.36494329e-04 9.99168839e-01]]\n",
      "\n",
      "\n",
      "Beta=1\n",
      "[[0.15373717 0.2316595 ]\n",
      " [0.24516916 0.36943417]]\n",
      "\n",
      "\n",
      "Beta=0.01\n",
      "[[0.24454481 0.25030119]\n",
      " [0.24963886 0.25551514]]\n",
      "\n",
      "\n"
     ]
    }
   ],
   "source": [
    "p_tables = []\n",
    "\n",
    "for i in range(len(betas)):\n",
    "    \n",
    "    tab = np.zeros((2, 2))\n",
    "    \n",
    "    # Probability tables for (+1,+1), (+1,-1), (-1, +1) and (-1, -1)\n",
    "    # for the top right and bottom right nodes\n",
    "    \n",
    "    tab[0,0] = marginals[i][0, 9] * marginals[i][9, 9]\n",
    "    tab[0,1] = marginals[i][0, 9] * (1 - marginals[i][9, 9])\n",
    "    tab[1,0] = (1-marginals[i][0, 9]) * marginals[i][9, 9]\n",
    "    tab[1,1] = (1-marginals[i][0, 9]) * (1-marginals[i][9, 9])\n",
    "    \n",
    "    p_tables.append(tab)\n",
    "    \n",
    "for i in range(len(betas)):\n",
    "    print(\"Beta=\" + str(betas[i]))\n",
    "    print(p_tables[i])\n",
    "    print(\"\\n\")"
   ]
  }
 ],
 "metadata": {
  "kernelspec": {
   "display_name": "condaenv",
   "language": "python",
   "name": "condaenv"
  },
  "language_info": {
   "codemirror_mode": {
    "name": "ipython",
    "version": 3
   },
   "file_extension": ".py",
   "mimetype": "text/x-python",
   "name": "python",
   "nbconvert_exporter": "python",
   "pygments_lexer": "ipython3",
   "version": "3.9.15"
  }
 },
 "nbformat": 4,
 "nbformat_minor": 5
}
