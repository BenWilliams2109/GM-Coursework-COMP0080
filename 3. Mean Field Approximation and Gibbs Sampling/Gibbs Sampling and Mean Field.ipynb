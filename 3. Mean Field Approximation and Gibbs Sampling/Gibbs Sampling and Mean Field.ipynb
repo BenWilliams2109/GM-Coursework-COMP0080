{
 "cells": [
  {
   "cell_type": "markdown",
   "id": "ff101d31",
   "metadata": {},
   "source": [
    "## Ising Model Inference"
   ]
  },
  {
   "cell_type": "code",
   "execution_count": 1,
   "id": "976ffb70",
   "metadata": {},
   "outputs": [],
   "source": [
    "import numpy as np\n",
    "import matplotlib.pyplot as plt\n",
    "import matplotlib.gridspec as gridspec\n",
    "from tqdm import tqdm\n",
    "import pandas as pd"
   ]
  },
  {
   "cell_type": "code",
   "execution_count": 2,
   "id": "5e0d812d",
   "metadata": {},
   "outputs": [],
   "source": [
    "def get_nearest_neighbours(i, j, N):\n",
    "    # only right and below neighbours to avoid double counting\n",
    "    neighbors = []\n",
    "    if i > 0:\n",
    "        neighbors.append((i-1, j))\n",
    "    if i < N-1:\n",
    "        neighbors.append((i+1, j))\n",
    "    if j > 0:\n",
    "        neighbors.append((i, j-1))\n",
    "    if j < N-1:\n",
    "        neighbors.append((i, j+1))\n",
    "        \n",
    "    return neighbors"
   ]
  },
  {
   "cell_type": "code",
   "execution_count": 3,
   "id": "09dadd19",
   "metadata": {},
   "outputs": [],
   "source": [
    "def initial_state(N):\n",
    "    return np.random.choice([-1, 1], size=(N, N))"
   ]
  },
  {
   "cell_type": "code",
   "execution_count": 4,
   "id": "a0a19473",
   "metadata": {},
   "outputs": [],
   "source": [
    "betas = [4, 1, 0.01]"
   ]
  },
  {
   "cell_type": "code",
   "execution_count": 5,
   "id": "4bedad20",
   "metadata": {},
   "outputs": [],
   "source": [
    "def boltzmann(beta):\n",
    "    return {'11': np.exp(beta),\n",
    "           '1-1': np.exp(0),\n",
    "           '-11': np.exp(0),\n",
    "           '-1-1': np.exp(beta)}"
   ]
  },
  {
   "cell_type": "markdown",
   "id": "d2795fc6",
   "metadata": {},
   "source": [
    "## Mean Field Approximation"
   ]
  },
  {
   "cell_type": "code",
   "execution_count": 6,
   "id": "63cff46a",
   "metadata": {},
   "outputs": [],
   "source": [
    "def proposal_distribution(alpha):\n",
    "    q = np.exp(alpha) / (np.exp(alpha) + np.exp(-alpha))\n",
    "    return q"
   ]
  },
  {
   "cell_type": "code",
   "execution_count": 7,
   "id": "5edf242f",
   "metadata": {},
   "outputs": [],
   "source": [
    "def mean_field_approx(max_iter=10, beta=1, N=10):\n",
    "    \n",
    "    # initialise the state\n",
    "    state = initial_state(N)\n",
    "    initial = state.copy()\n",
    "\n",
    "    potentials = boltzmann(beta)\n",
    "    samples = []\n",
    "    # Initial alpha\n",
    "    alpha = 100\n",
    "    \n",
    "    # Initial spin distribution of each individual spin being in +1 state\n",
    "    qn = np.ones((N, N)) * (1 / (1 + np.exp(-2*alpha)))\n",
    "    \n",
    "    for _ in tqdm(range(max_iter)):\n",
    "\n",
    "        for i in range(N):\n",
    "            for j in range(N):\n",
    "                \n",
    "                qn[i,j] = 0                \n",
    "\n",
    "                for n in get_nearest_neighbours(i, j, N):\n",
    "                    \n",
    "                    qn[i,j] += beta * np.tanh(qn[n[0],n[1]])\n",
    "                    \n",
    "                u = np.random.uniform()\n",
    "                q = qn[i,j]\n",
    "                if u < q:\n",
    "                    state[i,j] = 1\n",
    "                else:\n",
    "                    state[i,j] = -1\n",
    "                    \n",
    "    return qn"
   ]
  },
  {
   "cell_type": "code",
   "execution_count": 8,
   "id": "d0417d1b",
   "metadata": {},
   "outputs": [
    {
     "name": "stderr",
     "output_type": "stream",
     "text": [
      "100%|███████████████████████████████████████████████████████████████████████████████| 100/100 [00:00<00:00, 419.14it/s]\n",
      "100%|███████████████████████████████████████████████████████████████████████████████| 100/100 [00:00<00:00, 803.14it/s]\n",
      "100%|███████████████████████████████████████████████████████████████████████████████| 100/100 [00:00<00:00, 665.77it/s]\n"
     ]
    }
   ],
   "source": [
    "marginalsMF = []\n",
    "\n",
    "for beta in betas:\n",
    "\n",
    "    qn = mean_field_approx(max_iter=100, beta=beta, N=10)\n",
    "    qn = proposal_distribution(qn)\n",
    "    marginalsMF.append(qn)"
   ]
  },
  {
   "cell_type": "code",
   "execution_count": null,
   "id": "0fe81a83",
   "metadata": {},
   "outputs": [],
   "source": [
    "## Adaptation for running Isaac's code\n",
    "marginalsMF = []\n",
    "\n",
    "for beta in betas:\n",
    "\n",
    "    alpha, iter = coordinate_ascent(max_iter=10000, beta=0.01, N=10, tolerance=1e-10)\n",
    "    alpha = proposal_distribution(qn)\n",
    "    marginalsMF.append(qn)"
   ]
  },
  {
   "cell_type": "code",
   "execution_count": 9,
   "id": "43b4bc14",
   "metadata": {},
   "outputs": [
    {
     "name": "stdout",
     "output_type": "stream",
     "text": [
      "Beta=4\n",
      "[[9.99999775e-01 1.12535150e-07]\n",
      " [1.12535150e-07 1.26641628e-14]]\n",
      "\n",
      "\n",
      "Beta=1\n",
      "[[9.63596535e-01 1.80329956e-02]\n",
      " [1.80329956e-02 3.37474160e-04]]\n",
      "\n",
      "\n",
      "Beta=0.01\n",
      "[[0.25 0.25]\n",
      " [0.25 0.25]]\n",
      "\n",
      "\n"
     ]
    }
   ],
   "source": [
    "p_tablesMF = []\n",
    "\n",
    "for i in range(len(betas)):\n",
    "    \n",
    "    tab = np.zeros((2, 2))\n",
    "    \n",
    "    # Probability tables for (+1,+1), (+1,-1), (-1, +1) and (-1, -1)\n",
    "    # for the top right and bottom right nodes\n",
    "    \n",
    "    tab[0,0] = marginalsMF[i][0, 9] * marginalsMF[i][9, 9]\n",
    "    tab[0,1] = marginalsMF[i][0, 9] * (1 - marginalsMF[i][9, 9])\n",
    "    tab[1,0] = (1-marginalsMF[i][0, 9]) * marginalsMF[i][9, 9]\n",
    "    tab[1,1] = (1-marginalsMF[i][0, 9]) * (1-marginalsMF[i][9, 9])\n",
    "    \n",
    "    p_tablesMF.append(tab)\n",
    "    \n",
    "for i in range(len(betas)):\n",
    "    print(\"Beta=\" + str(betas[i]))\n",
    "    print(p_tablesMF[i])\n",
    "    print(\"\\n\")"
   ]
  },
  {
   "cell_type": "markdown",
   "id": "87aa0b3d",
   "metadata": {},
   "source": [
    "## Gibb's Sampling"
   ]
  },
  {
   "cell_type": "code",
   "execution_count": 10,
   "id": "22d8a2f9",
   "metadata": {},
   "outputs": [],
   "source": [
    "def gibbs_sampling(max_iter=10000, burn_in=100, beta=1.0, N=10):\n",
    "\n",
    "    # initialise the state\n",
    "    state = initial_state(N)\n",
    "    initial = state.copy()\n",
    "\n",
    "    potentials = boltzmann(beta)\n",
    "    samples = []\n",
    "    \n",
    "    print(\"Processing...\")\n",
    "    for _ in range(max_iter):\n",
    "        \n",
    "        # Draw a coordinate at random \n",
    "        i, j = np.random.randint(0, N, size=2)\n",
    "        \n",
    "\n",
    "        # Calculate the free energy for si+ and si-\n",
    "        E_splus, E_sminus = 0, 0\n",
    "        J = 1\n",
    "        \n",
    "        for n in get_nearest_neighbours(i, j, N):\n",
    "            E_splus += -0.5 * 1 * state[n[0], n[1]]\n",
    "            E_sminus += -0.5 * -1 * state[n[0], n[1]]\n",
    "        \n",
    "        # Calculate delta E\n",
    "        dE = E_splus - E_sminus\n",
    "        \n",
    "        # Conditional P\n",
    "        cond_p = 1 / (1 + np.exp(beta * dE))\n",
    "        \n",
    "        # Draw a value U from a uniform distribution\n",
    "        U = np.random.uniform()\n",
    "        \n",
    "        if U <= cond_p:\n",
    "            state[i, j] = 1\n",
    "        else:\n",
    "            state[i, j] = -1\n",
    "\n",
    "        #store the state\n",
    "        samples.append(state.copy())\n",
    "       \n",
    "    print(\"Finished \\n\")\n",
    "\n",
    "    return samples, initial, state"
   ]
  },
  {
   "cell_type": "code",
   "execution_count": 11,
   "id": "aa06da16",
   "metadata": {},
   "outputs": [
    {
     "name": "stdout",
     "output_type": "stream",
     "text": [
      "Processing...\n",
      "Finished \n",
      "\n",
      "Processing...\n",
      "Finished \n",
      "\n",
      "Processing...\n",
      "Finished \n",
      "\n"
     ]
    }
   ],
   "source": [
    "samps = []\n",
    "finals = []\n",
    "\n",
    "for beta in betas:\n",
    "\n",
    "    samples, initial, final = gibbs_sampling(max_iter=3000000, burn_in=100, beta=beta, N=10)\n",
    "    samps.append([samples])\n",
    "    finals.append(final)"
   ]
  },
  {
   "cell_type": "code",
   "execution_count": 12,
   "id": "2d1c53ca",
   "metadata": {},
   "outputs": [
    {
     "data": {
      "image/png": "[encoded data removed]",
      "text/plain": [
       "<Figure size 640x480 with 3 Axes>"
      ]
     },
     "metadata": {},
     "output_type": "display_data"
    }
   ],
   "source": [
    "fig = plt.figure()\n",
    "count = 0\n",
    "rows, cols = 1, 3\n",
    "\n",
    "for i in range(rows):\n",
    "    for j in range(cols):\n",
    "        plt.subplot(rows, cols, count + 1)\n",
    "        plt.imshow(-1/finals[count], cmap=\"Greys_r\")\n",
    "        plt.title(\"Beta=\" + str(betas[count]))# + \", Temp=\" + str(1/betas[count]))\n",
    "        \n",
    "        ax = plt.gca()\n",
    "\n",
    "        # Hide X and Y axes label marks\n",
    "        ax.xaxis.set_tick_params(labelbottom=False)\n",
    "        ax.yaxis.set_tick_params(labelleft=False)\n",
    "\n",
    "        # Hide X and Y axes tick marks\n",
    "        ax.set_xticks([])\n",
    "        ax.set_yticks([])\n",
    "        \n",
    "        count += 1\n",
    "        \n",
    "plt.tight_layout()\n",
    "plt.show()"
   ]
  },
  {
   "cell_type": "code",
   "execution_count": 13,
   "id": "0f42cec3",
   "metadata": {},
   "outputs": [],
   "source": [
    "def prob_distribution(samples, N=10):\n",
    "    \n",
    "    # compute the empirical distribution by counting the number of \n",
    "    # times each state is positive\n",
    "    for i in range(len(samples)):\n",
    "        samples[i] = (samples[i] == 1).astype(int)\n",
    "    \n",
    "    p = np.sum(samples, axis=0) / len(samples)\n",
    "\n",
    "    return p"
   ]
  },
  {
   "cell_type": "code",
   "execution_count": null,
   "id": "e473e45c",
   "metadata": {},
   "outputs": [
    {
     "name": "stdout",
     "output_type": "stream",
     "text": [
      "Processing...\n",
      "Completed\n",
      "Processing...\n",
      "Completed\n",
      "Processing...\n"
     ]
    }
   ],
   "source": [
    "marginals = []\n",
    "joints = []\n",
    "\n",
    "for i in range(3):\n",
    "    print(\"Processing...\")\n",
    "    margs = prob_distribution(samps[i][0])\n",
    "    joint = margs[0,9]*margs[9,9]\n",
    "    \n",
    "    marginals.append(margs)\n",
    "    joints.append(joint)\n",
    "    print(\"Completed\")"
   ]
  },
  {
   "cell_type": "code",
   "execution_count": null,
   "id": "6078db85",
   "metadata": {},
   "outputs": [],
   "source": [
    "p_tables = []\n",
    "\n",
    "for i in range(len(betas)):\n",
    "    \n",
    "    tab = np.zeros((2, 2))\n",
    "    \n",
    "    # Probability tables for (+1,+1), (+1,-1), (-1, +1) and (-1, -1)\n",
    "    # for the top right and bottom right nodes\n",
    "    \n",
    "    tab[0,0] = marginals[i][0, 9] * marginals[i][9, 9]\n",
    "    tab[0,1] = marginals[i][0, 9] * (1 - marginals[i][9, 9])\n",
    "    tab[1,0] = (1-marginals[i][0, 9]) * marginals[i][9, 9]\n",
    "    tab[1,1] = (1-marginals[i][0, 9]) * (1-marginals[i][9, 9])\n",
    "    \n",
    "    p_tables.append(tab)\n",
    "    \n",
    "for i in range(len(betas)):\n",
    "    print(\"Beta=\" + str(betas[i]))\n",
    "    print(p_tables[i])\n",
    "    print(\"\\n\")"
   ]
  }
 ],
 "metadata": {
  "kernelspec": {
   "display_name": "condaenv",
   "language": "python",
   "name": "condaenv"
  },
  "language_info": {
   "codemirror_mode": {
    "name": "ipython",
    "version": 3
   },
   "file_extension": ".py",
   "mimetype": "text/x-python",
   "name": "python",
   "nbconvert_exporter": "python",
   "pygments_lexer": "ipython3",
   "version": "3.9.15"
  }
 },
 "nbformat": 4,
 "nbformat_minor": 5
}
