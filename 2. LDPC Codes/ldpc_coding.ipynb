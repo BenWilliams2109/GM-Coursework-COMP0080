{
 "cells": [
  {
   "cell_type": "markdown",
   "id": "e530c890-1cf6-429b-b74c-2d2db1c64f4c",
   "metadata": {},
   "source": [
   ]
  },
  {
   "cell_type": "code",
   "execution_count": 5,
   "id": "8df8ea34-2f94-418c-a694-5fafbe02e091",
   "metadata": {
    "tags": []
   },
   "outputs": [
    {
     "name": "stdout",
     "output_type": "stream",
     "text": [
      "H_hat =\n",
      "[[1 0 0 1 1 0]\n",
      " [0 1 0 1 1 1]\n",
      " [0 0 1 1 0 1]]\n",
      "G =\n",
      "[[1 1 0]\n",
      " [1 1 1]\n",
      " [1 0 1]\n",
      " [1 0 0]\n",
      " [0 1 0]\n",
      " [0 0 1]]\n"
     ]
    }
   ],
   "source": [
    "import numpy as np\n",
    "\n",
    "# define binary operations\n",
    "\n",
    "def binary_addition(a, b):\n",
    "    return a ^ b\n",
    "\n",
    "def binary_multiplication(a, b):\n",
    "    return a & b\n",
    "\n",
    "#compute row echelon form\n",
    "\n",
    "def encoding(matrix):\n",
    "    rows, cols = matrix.shape\n",
    "    lead = 0\n",
    "\n",
    "    for r in range(rows):\n",
    "        if lead >= cols:\n",
    "            break\n",
    "\n",
    "        i = r\n",
    "        while matrix[i, lead] == 0:\n",
    "            i += 1\n",
    "            if i == rows:\n",
    "                i = r\n",
    "                lead += 1\n",
    "                if cols == lead:\n",
    "                    break\n",
    "\n",
    "        matrix[[i, r]] = matrix[[r, i]]\n",
    "\n",
    "        if matrix[r, lead] != 0:\n",
    "            matrix[r] = binary_multiplication(matrix[r], matrix[r, lead])\n",
    "\n",
    "        for j in range(rows):  # Loop again\n",
    "            if j != r:\n",
    "                factor = matrix[j, lead]\n",
    "                matrix[j] = binary_addition(matrix[j], binary_multiplication(matrix[r], factor))\n",
    "\n",
    "        lead += 1\n",
    "    \n",
    "    H_hat = matrix\n",
    "\n",
    "# Extract matrix 'P'\n",
    "    P = matrix[:, cols//2:]\n",
    "\n",
    "# Create matrix G from H_hat, set data type for no floating points\n",
    "    G = np.vstack((P, np.eye(rows))).astype(np.uint8)\n",
    "    \n",
    "    print(\"H_hat =\")\n",
    "    print(H_hat)\n",
    "    print(\"G =\")\n",
    "    print(G)\n",
    "\n",
    "encoding(np.array([[1, 1, 1, 1, 0, 0],\n",
    "                    [0, 0, 1, 1, 0, 1],\n",
    "                    [1, 0, 0, 1, 1, 0]]))\n"
   ]
  }
 ],
 "metadata": {
  "kernelspec": {
   "display_name": "Python 3 (ipykernel)",
   "language": "python",
   "name": "python3"
  },
  "language_info": {
   "codemirror_mode": {
    "name": "ipython",
    "version": 3
   },
   "file_extension": ".py",
   "mimetype": "text/x-python",
   "name": "python",
   "nbconvert_exporter": "python",
   "pygments_lexer": "ipython3",
   "version": "3.11.5"
  }
 },
 "nbformat": 4,
 "nbformat_minor": 5
}
