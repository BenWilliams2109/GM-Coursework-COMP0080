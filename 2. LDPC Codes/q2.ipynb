{
 "cells": [
  {
   "cell_type": "markdown",
   "metadata": {},
   "source": [
    "# LDPC Codes"
   ]
  },
  {
   "cell_type": "markdown",
   "metadata": {},
   "source": [
    "Encoding method -Transform parity check matrix into approximate upper\n",
    "triangulation form, then matrix multiplication\n",
    "encoding\n",
    "\n",
    "Decoding method - Message passing algorithm for BSC"
   ]
  },
  {
   "cell_type": "code",
   "execution_count": 9,
   "metadata": {},
   "outputs": [],
   "source": [
    "import random\n",
    "import numpy as np\n",
    "import numba as nb\n",
    "import pandas as pd\n",
    "from tqdm import tqdm"
   ]
  },
  {
   "cell_type": "code",
   "execution_count": 10,
   "metadata": {},
   "outputs": [],
   "source": [
    "def binary_symmetric_channel(x, p):\n",
    "    if random.uniform(0,1) < p:\n",
    "        return 1 - x\n",
    "    else:\n",
    "        return x"
   ]
  },
  {
   "cell_type": "code",
   "execution_count": 11,
   "metadata": {},
   "outputs": [],
   "source": [
    "H = np.array([[1, 1, 1, 1, 0, 0],\n",
    "              [0, 0, 1, 1, 0, 1],\n",
    "              [1, 0, 0, 1, 1, 0]])"
   ]
  },
  {
   "cell_type": "code",
   "execution_count": 12,
   "metadata": {},
   "outputs": [],
   "source": [
    "def gaussian_elimination(H):\n",
    "    \"\"\"\n",
    "    Gaussian elimination of a parity check matrix H.\n",
    "    \"\"\"\n",
    "    H_reduced = H.copy()\n",
    "    n, k = H.shape\n",
    "    for i in range(n):\n",
    "        # find pivot\n",
    "        for j in range(i, n):\n",
    "            if H_reduced[j, i] == 1:\n",
    "                break\n",
    "        else:\n",
    "            raise ValueError(\"H is not full rank\")\n",
    "        # swap rows\n",
    "        H_reduced[[i, j], :] = H_reduced[[j, i], :]\n",
    "        # eliminate\n",
    "        for j in range(i+1, n):\n",
    "            if H_reduced[j, i] == 1:\n",
    "                H_reduced[j, :] = (H_reduced[j, :] + H_reduced[i, :]) % 2\n",
    "\n",
    "    # identify identity columns\n",
    "    indices = np.where(H_reduced.sum(axis=0) == 1)[0]\n",
    "    # swap columns\n",
    "    for i, index in enumerate(indices):\n",
    "        H_reduced[:, [i, index]] = H_reduced[:, [index, i]]\n",
    "\n",
    "    return H_reduced"
   ]
  },
  {
   "cell_type": "code",
   "execution_count": 13,
   "metadata": {},
   "outputs": [
    {
     "data": {
      "text/plain": [
       "(array([[1, 1, 1, 1, 0, 0],\n",
       "        [0, 0, 1, 1, 0, 1],\n",
       "        [1, 0, 0, 1, 1, 0]]),\n",
       " array([[1, 0, 0, 1, 1, 1],\n",
       "        [0, 1, 0, 0, 1, 1],\n",
       "        [0, 0, 1, 1, 0, 1]]))"
      ]
     },
     "execution_count": 13,
     "metadata": {},
     "output_type": "execute_result"
    }
   ],
   "source": [
    "H_reduced = gaussian_elimination(H)\n",
    "H, H_reduced"
   ]
  },
  {
   "cell_type": "code",
   "execution_count": 14,
   "metadata": {},
   "outputs": [],
   "source": [
    "def generator_matrix(H):\n",
    "    \"\"\"\n",
    "    Construct a generator matrix G from a parity check matrix H.\n",
    "    \"\"\"\n",
    "    H_reduced = gaussian_elimination(H)\n",
    "    n, k = H_reduced.shape\n",
    "\n",
    "    G = np.zeros((k, n), dtype=int)\n",
    "    G[:n, :] = np.eye(n, dtype=int)\n",
    "    G[n:, :] = H_reduced[:, n:].T\n",
    "\n",
    "    return G, H_reduced"
   ]
  },
  {
   "cell_type": "code",
   "execution_count": 15,
   "metadata": {},
   "outputs": [
    {
     "data": {
      "text/plain": [
       "(array([[1, 0, 0],\n",
       "        [0, 1, 0],\n",
       "        [0, 0, 1],\n",
       "        [1, 0, 1],\n",
       "        [1, 1, 0],\n",
       "        [1, 1, 1]]),\n",
       " array([[1, 0, 0, 1, 1, 1],\n",
       "        [0, 1, 0, 0, 1, 1],\n",
       "        [0, 0, 1, 1, 0, 1]]))"
      ]
     },
     "execution_count": 15,
     "metadata": {},
     "output_type": "execute_result"
    }
   ],
   "source": [
    "generator_matrix(H_reduced)"
   ]
  },
  {
   "cell_type": "code",
   "execution_count": 16,
   "metadata": {},
   "outputs": [],
   "source": [
    "def encoder(G, t, p):\n",
    "    \"\"\"\n",
    "    Encode a message t using a generator matrix G and a channel p.\n",
    "\n",
    "    G : array_like\n",
    "        Generator matrix.\n",
    "    t : array_like\n",
    "        Message to encode.\n",
    "    p : float\n",
    "        Channel error probability.\n",
    "\n",
    "    x : array_like\n",
    "        Encoded message.\n",
    "    \"\"\"\n",
    "    \n",
    "    x = np.dot(G.T, t) % 2\n",
    "    return np.array([binary_symmetric_channel(xi, p) for xi in x])"
   ]
  },
  {
   "cell_type": "code",
   "execution_count": 17,
   "metadata": {},
   "outputs": [
    {
     "ename": "AttributeError",
     "evalue": "'tuple' object has no attribute 'T'",
     "output_type": "error",
     "traceback": [
      "\u001b[0;31m---------------------------------------------------------------------------\u001b[0m",
      "\u001b[0;31mAttributeError\u001b[0m                            Traceback (most recent call last)",
      "Cell \u001b[0;32mIn[17], line 3\u001b[0m\n\u001b[1;32m      1\u001b[0m G \u001b[38;5;241m=\u001b[39m generator_matrix(H_reduced)\n\u001b[1;32m      2\u001b[0m t \u001b[38;5;241m=\u001b[39m np\u001b[38;5;241m.\u001b[39marray([\u001b[38;5;241m1\u001b[39m, \u001b[38;5;241m0\u001b[39m, \u001b[38;5;241m1\u001b[39m, \u001b[38;5;241m0\u001b[39m, \u001b[38;5;241m0\u001b[39m, \u001b[38;5;241m0\u001b[39m])\u001b[38;5;241m.\u001b[39mreshape(\u001b[38;5;241m-\u001b[39m\u001b[38;5;241m1\u001b[39m, \u001b[38;5;241m1\u001b[39m)\n\u001b[0;32m----> 3\u001b[0m x \u001b[38;5;241m=\u001b[39m encoder(G, t, \u001b[38;5;241m0.1\u001b[39m)\n\u001b[1;32m      4\u001b[0m x\n",
      "Cell \u001b[0;32mIn[16], line 16\u001b[0m, in \u001b[0;36mencoder\u001b[0;34m(G, t, p)\u001b[0m\n\u001b[1;32m      1\u001b[0m \u001b[38;5;28;01mdef\u001b[39;00m \u001b[38;5;21mencoder\u001b[39m(G, t, p):\n\u001b[1;32m      2\u001b[0m \u001b[38;5;250m    \u001b[39m\u001b[38;5;124;03m\"\"\"\u001b[39;00m\n\u001b[1;32m      3\u001b[0m \u001b[38;5;124;03m    Encode a message t using a generator matrix G and a channel p.\u001b[39;00m\n\u001b[1;32m      4\u001b[0m \n\u001b[0;32m   (...)\u001b[0m\n\u001b[1;32m     13\u001b[0m \u001b[38;5;124;03m        Encoded message.\u001b[39;00m\n\u001b[1;32m     14\u001b[0m \u001b[38;5;124;03m    \"\"\"\u001b[39;00m\n\u001b[0;32m---> 16\u001b[0m     x \u001b[38;5;241m=\u001b[39m np\u001b[38;5;241m.\u001b[39mdot(G\u001b[38;5;241m.\u001b[39mT, t) \u001b[38;5;241m%\u001b[39m \u001b[38;5;241m2\u001b[39m\n\u001b[1;32m     17\u001b[0m     \u001b[38;5;28;01mreturn\u001b[39;00m np\u001b[38;5;241m.\u001b[39marray([binary_symmetric_channel(xi, p) \u001b[38;5;28;01mfor\u001b[39;00m xi \u001b[38;5;129;01min\u001b[39;00m x])\n",
      "\u001b[0;31mAttributeError\u001b[0m: 'tuple' object has no attribute 'T'"
     ]
    }
   ],
   "source": [
    "G = generator_matrix(H_reduced)\n",
    "t = np.array([1, 0, 1, 0, 0, 0]).reshape(-1, 1)\n",
    "x = encoder(G, t, 0.1)\n",
    "x"
   ]
  },
  {
   "cell_type": "code",
   "execution_count": 18,
   "metadata": {},
   "outputs": [],
   "source": [
    "# message passing rule\n",
    "def var_to_check_msg(vars, check, p):\n",
    "    \"\"\"\n",
    "    Compute the message from a variable node to a check node.\n",
    "    \"\"\"\n",
    "    # compute marginal probability of check node\n",
    "    p_check = p if check == 0 else 1 - p\n",
    "    # compute message\n",
    "    return np.prod(np.array([1 - 2*v for v in vars if v != check]))\n",
    "    \n",
    "\n",
    "def check_to_var_msg(vars, check, p):\n",
    "    \"\"\"\n",
    "    Compute the message from a check node to a variable node.\n",
    "    \"\"\"\n",
    "    # compute marginal probability of check node\n",
    "    p_check = p if check == 0 else 1 - p\n",
    "    # compute message\n",
    "    return p_check * np.prod(np.array([1 - 2*v for v in vars if v != check]))"
   ]
  },
  {
   "cell_type": "code",
   "execution_count": 19,
   "metadata": {},
   "outputs": [],
   "source": [
    "def init_p(received_codeword, epsilon):\n",
    "    n = len(received_codeword)\n",
    "    p = np.zeros((n))  # Initialize the messages q_{ij} for each variable node i\n",
    "\n",
    "    for i in range(n):\n",
    "        if received_codeword[i] == 0:\n",
    "            p[i] = 1 - epsilon\n",
    "            p[i] = epsilon\n",
    "        else:\n",
    "            p[i] = epsilon\n",
    "            p[i] = 1 - epsilon\n",
    "\n",
    "    return p"
   ]
  },
  {
   "cell_type": "code",
   "execution_count": 35,
   "metadata": {},
   "outputs": [],
   "source": [
    "def init_q(n, m, p):\n",
    "    q = np.zeros((n, m, 2))  # Initialize the messages q_{ij} for each check node j\n",
    "    for j in range(m):\n",
    "        for i in range(n):\n",
    "            q[i, j, 0] = p[i]\n",
    "            q[i, j, 1] = 1 - p[i]\n",
    "    \n",
    "    # normalize\n",
    "    k = q.sum(axis=2, keepdims=True)\n",
    "    q /= k\n",
    "\n",
    "    return q, k"
   ]
  },
  {
   "cell_type": "code",
   "execution_count": 28,
   "metadata": {},
   "outputs": [],
   "source": [
    "def lbp_ldpc_bsc_decoder(received_codeword, H, p, max_iter=20):\n",
    "    \n",
    "    n, m = H.shape  # n: number of variable nodes, m: number of check nodes\n",
    "    x_hat = np.zeros(n)  # Initialize the estimated codeword\n",
    "    p = init_p(received_codeword, p)  # Initialize the messages p_{i} - probability of bit i being 1\n",
    "    q, k = init_q(n, m, p)  # Initialize the messages q_{ij} - var to check\n",
    "    r = np.zeros((m, n, 2))  # Initialize the messages r_{ji} - check to var\n",
    "\n",
    "    for _ in tqdm(range(max_iter)):\n",
    "\n",
    "        # Update messages r_{ji}\n",
    "        for i in range(n):\n",
    "            for j in range(m):\n",
    "                related_vars = np.where(H[:, j] == 1)[0]\n",
    "                related_vars = related_vars[related_vars != i]  # Exclude the current variable node\n",
    "                r[j, i, 0] = 0.5 + 0.5 * np.prod(1 - 2 * q[related_vars, j, 1])\n",
    "                r[j, i, 1] = 1 - r[j, i, 0]\n",
    "        # normalize\n",
    "        r /= k\n",
    "\n",
    "        # Update messages q_{ij}\n",
    "        for j in range(m):\n",
    "            for i in range(n):\n",
    "                related_checks = np.where(H[i, :] == 1)[0]\n",
    "                related_checks = related_checks[related_checks != j]  # Exclude the current check node\n",
    "                prod_term = np.prod(r[related_checks, i, 1])\n",
    "                q[i, j, 0] = prod_term * (1-p[i]) * r[j, i, 0]\n",
    "                q[i, j, 1] = prod_term * p[i] * r[j, i, 1]\n",
    "        # normalize\n",
    "        q /= k\n",
    "\n",
    "        # Calculate the bitwise estimate of every bit\n",
    "        for i in range(n):\n",
    "            related_checks = np.where(H[i, :] == 1)[0]\n",
    "            Q_0 = k[i] * p[i] * np.prod(r[related_checks, i, 1])\n",
    "            Q_1 = k[i] * (1-p[i]) * np.prod(r[related_checks, i, 0])\n",
    "            likelihood_ratio = Q_1 / Q_0\n",
    "            x_hat[i] = 1 if likelihood_ratio > 1 else 0\n",
    "\n",
    "        # Check if the estimate is a correct\n",
    "        if np.array_equal(x_hat, received_codeword):\n",
    "            return x_hat, 0\n",
    "            \n",
    "    return x_hat, -1"
   ]
  },
  {
   "cell_type": "code",
   "execution_count": 29,
   "metadata": {},
   "outputs": [],
   "source": [
    "H_data = pd.read_csv('h1.csv', header=None).values"
   ]
  },
  {
   "cell_type": "code",
   "execution_count": 30,
   "metadata": {},
   "outputs": [],
   "source": [
    "H = np.array([np.array([int(i) for i in H_data[j][0].split()]) for j in range(len(H_data))])"
   ]
  },
  {
   "cell_type": "code",
   "execution_count": 31,
   "metadata": {},
   "outputs": [],
   "source": [
    "y_data = pd.read_csv('y1.csv', header=None).values"
   ]
  },
  {
   "cell_type": "code",
   "execution_count": 32,
   "metadata": {},
   "outputs": [],
   "source": [
    "y = y_data"
   ]
  },
  {
   "cell_type": "code",
   "execution_count": 33,
   "metadata": {},
   "outputs": [
    {
     "data": {
      "text/plain": [
       "(1000, 1)"
      ]
     },
     "execution_count": 33,
     "metadata": {},
     "output_type": "execute_result"
    }
   ],
   "source": [
    "y.shape"
   ]
  },
  {
   "cell_type": "code",
   "execution_count": 34,
   "metadata": {},
   "outputs": [
    {
     "name": "stderr",
     "output_type": "stream",
     "text": [
      "  3%|▎         | 3/100 [00:22<11:57,  7.40s/it]/var/folders/83/fbs1wm6n5ss0ryx5kk07x01m0000gn/T/ipykernel_34645/1101546402.py:31: RuntimeWarning: invalid value encountered in scalar divide\n",
      "  likelihood_ratio = (p[i] * np.prod(r[related_checks, i, 1])) / ((1-p[i]) * np.prod(r[related_checks, i, 1]))\n",
      " 21%|██        | 21/100 [02:38<09:57,  7.56s/it]\n"
     ]
    },
    {
     "ename": "KeyboardInterrupt",
     "evalue": "",
     "output_type": "error",
     "traceback": [
      "\u001b[0;31m---------------------------------------------------------------------------\u001b[0m",
      "\u001b[0;31mKeyboardInterrupt\u001b[0m                         Traceback (most recent call last)",
      "Cell \u001b[0;32mIn[34], line 1\u001b[0m\n\u001b[0;32m----> 1\u001b[0m lbp_ldpc_bsc_decoder(y, H, \u001b[38;5;241m0.1\u001b[39m, \u001b[38;5;241m100\u001b[39m)\n",
      "Cell \u001b[0;32mIn[28], line 16\u001b[0m, in \u001b[0;36mlbp_ldpc_bsc_decoder\u001b[0;34m(received_codeword, H, p, max_iter)\u001b[0m\n\u001b[1;32m     14\u001b[0m         related_vars \u001b[38;5;241m=\u001b[39m np\u001b[38;5;241m.\u001b[39mwhere(H[:, j] \u001b[38;5;241m==\u001b[39m \u001b[38;5;241m1\u001b[39m)[\u001b[38;5;241m0\u001b[39m]\n\u001b[1;32m     15\u001b[0m         related_vars \u001b[38;5;241m=\u001b[39m related_vars[related_vars \u001b[38;5;241m!=\u001b[39m i]  \u001b[38;5;66;03m# Exclude the current variable node\u001b[39;00m\n\u001b[0;32m---> 16\u001b[0m         r[j, i, \u001b[38;5;241m0\u001b[39m] \u001b[38;5;241m=\u001b[39m \u001b[38;5;241m0.5\u001b[39m \u001b[38;5;241m+\u001b[39m \u001b[38;5;241m0.5\u001b[39m \u001b[38;5;241m*\u001b[39m np\u001b[38;5;241m.\u001b[39mprod(\u001b[38;5;241m1\u001b[39m \u001b[38;5;241m-\u001b[39m \u001b[38;5;241m2\u001b[39m \u001b[38;5;241m*\u001b[39m q[related_vars, j, \u001b[38;5;241m1\u001b[39m])\n\u001b[1;32m     17\u001b[0m         r[j, i, \u001b[38;5;241m1\u001b[39m] \u001b[38;5;241m=\u001b[39m \u001b[38;5;241m1\u001b[39m \u001b[38;5;241m-\u001b[39m r[j, i, \u001b[38;5;241m0\u001b[39m]\n\u001b[1;32m     19\u001b[0m \u001b[38;5;66;03m# Update messages q_{ij}\u001b[39;00m\n",
      "File \u001b[0;32m<__array_function__ internals>:177\u001b[0m, in \u001b[0;36mprod\u001b[0;34m(*args, **kwargs)\u001b[0m\n",
      "\u001b[0;31mKeyboardInterrupt\u001b[0m: "
     ]
    }
   ],
   "source": [
    "lbp_ldpc_bsc_decoder(y, H, 0.1, 100)"
   ]
  },
  {
   "cell_type": "code",
   "execution_count": null,
   "metadata": {},
   "outputs": [],
   "source": [
    "def recover_english_message(decoded_signal):\n",
    "    # Extract the first 248 bits\n",
    "    extracted_bits = decoded_signal[:248]\n",
    "\n",
    "    # Convert the 248 bits into a sequence of 31 ASCII symbols\n",
    "    ascii_symbols = []\n",
    "    for i in range(0, 248, 8):  # Step by 8 bits to get each ASCII symbol\n",
    "        ascii_value = int(extracted_bits[i:i+8], 2)  # Convert 8-bit binary to integer\n",
    "        ascii_symbols.append(chr(ascii_value))  # Convert ASCII value to character\n",
    "\n",
    "    # Combine the ASCII symbols into the original English message\n",
    "    original_message = ''.join(ascii_symbols)\n",
    "    return original_message\n",
    "\n",
    "# Example usage:\n",
    "decoded_signal = lbp_ldpc_bsc_decoder(y, H, 0.1, 100)\n",
    "original_message = recover_english_message(decoded_signal)\n"
   ]
  }
 ],
 "metadata": {
  "kernelspec": {
   "display_name": "base",
   "language": "python",
   "name": "python3"
  },
  "language_info": {
   "codemirror_mode": {
    "name": "ipython",
    "version": 3
   },
   "file_extension": ".py",
   "mimetype": "text/x-python",
   "name": "python",
   "nbconvert_exporter": "python",
   "pygments_lexer": "ipython3",
   "version": "3.11.4"
  }
 },
 "nbformat": 4,
 "nbformat_minor": 2
}
