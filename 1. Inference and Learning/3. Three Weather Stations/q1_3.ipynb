{
 "cells": [
  {
   "cell_type": "code",
   "execution_count": 1,
   "metadata": {},
   "outputs": [],
   "source": [
    "import pandas as pd\n",
    "import numpy as np\n",
    "import matplotlib.pyplot as plt"
   ]
  },
  {
   "cell_type": "code",
   "execution_count": 2,
   "metadata": {},
   "outputs": [],
   "source": [
    "# read in csv as data sequence\n",
    "data = pd.read_csv('meteo0.csv', header=None).values"
   ]
  },
  {
   "cell_type": "code",
   "execution_count": 3,
   "metadata": {},
   "outputs": [],
   "source": [
    "# split string and convert elements to integers keeping the same structure\n",
    "# V = (v^1, ..., v^N) where v^i = (v^i_1, ..., v^i_T)\n",
    "V = np.array([np.array([int(i) for i in data[j][0].split()]) for j in range(len(data))])"
   ]
  },
  {
   "cell_type": "code",
   "execution_count": 4,
   "metadata": {},
   "outputs": [
    {
     "data": {
      "text/plain": [
       "500"
      ]
     },
     "execution_count": 4,
     "metadata": {},
     "output_type": "execute_result"
    }
   ],
   "source": [
    "len(V)"
   ]
  },
  {
   "cell_type": "code",
   "execution_count": 5,
   "metadata": {},
   "outputs": [],
   "source": [
    "# parameters of HMM - transition matrix, emission matrix, initial state distribution\n",
    "# initial parameter distibrutions are randomly generated and normalised\n",
    "def random_initial_parameters(n_states=3, n_features=3):\n",
    "\n",
    "    # transition matrix - a_ij = p(h_t = j|h_t-1 = i)\n",
    "    A = np.random.rand(n_states, n_states)\n",
    "    A /= np.sum(A, axis=1, keepdims=True)\n",
    "    # emission matrix - b_ij = p(v_t = j|h_t = i)\n",
    "    B = np.random.rand(n_states, n_features)\n",
    "    B /= np.sum(B, axis=1, keepdims=True)\n",
    "    # initial state distribution - pi_i = p(h_1 = i)\n",
    "    pi = np.random.rand(1, n_states)\n",
    "    pi /= np.sum(pi)\n",
    "\n",
    "    return A, B, pi"
   ]
  },
  {
   "cell_type": "code",
   "execution_count": 6,
   "metadata": {},
   "outputs": [],
   "source": [
    "# parameters of HMM - transition matrix, emission matrix, initial state distribution\n",
    "# initial parameter distibrutions are uniform\n",
    "def uniform_initial_parameters(n_states=3, n_features=3):\n",
    "\n",
    "    # transition matrix - a_ij = p(h_t = j|h_t-1 = i)\n",
    "    A = np.ones((n_states, n_states)) / n_states\n",
    "    # emission matrix - b_ij = p(v_t = j|h_t = i)\n",
    "    B = np.ones((n_states, n_features)) / n_features\n",
    "    # initial state distribution - pi_i = p(h_1 = i)\n",
    "    pi = np.ones((1, n_states)) / n_states\n",
    "\n",
    "    return A, B, pi"
   ]
  },
  {
   "cell_type": "code",
   "execution_count": 7,
   "metadata": {},
   "outputs": [],
   "source": [
    "# parameters of HMM - transition matrix, emission matrix, initial state distribution\n",
    "# initial parameter distibrutions are generated using k-means clustering\n",
    "def kmeans_initial_parameters(n_states=3, n_features=3):\n",
    "\n",
    "    # transition matrix - a_ij = p(h_t = j|h_t-1 = i)\n",
    "    A = np.zeros((n_states, n_states))\n",
    "    # emission matrix - b_ij = p(v_t = j|h_t = i)\n",
    "    B = np.zeros((n_states, n_features))\n",
    "    # initial state distribution - pi_i = p(h_1 = i)\n",
    "    pi = np.zeros((1, n_states))\n",
    "\n",
    "    # k-means clustering\n",
    "    from sklearn.cluster import KMeans\n",
    "    kmeans = KMeans(n_clusters=n_states, random_state=0).fit(V)\n",
    "    labels = kmeans.labels_\n",
    "\n",
    "    # initial state distribution\n",
    "    for i in range(len(labels)):\n",
    "        pi[0][labels[i]] += 1\n",
    "    pi /= np.sum(pi)\n",
    "\n",
    "    # emission matrix\n",
    "    for i in range(len(labels)):\n",
    "        B[labels[i]][V[i][0]] += 1\n",
    "    B /= np.sum(B, axis=1, keepdims=True)\n",
    "\n",
    "    # transition matrix\n",
    "    for i in range(len(labels)-1):\n",
    "        A[labels[i]][labels[i+1]] += 1\n",
    "    A /= np.sum(A, axis=1, keepdims=True)\n",
    "\n",
    "    return A, B, pi"
   ]
  },
  {
   "cell_type": "code",
   "execution_count": 8,
   "metadata": {},
   "outputs": [],
   "source": [
    "# parameters of HMM - transition matrix, emission matrix, initial state distribution\n",
    "# initial parameter distibrutions are generated using gaussian mixture model clustering\n",
    "def gmm_initial_parameters(n_states=3, n_features=3):\n",
    "\n",
    "    # transition matrix - a_ij = p(h_t = j|h_t-1 = i)\n",
    "    A = np.zeros((n_states, n_states))\n",
    "    # emission matrix - b_ij = p(v_t = j|h_t = i)\n",
    "    B = np.zeros((n_states, n_features))\n",
    "    # initial state distribution - pi_i = p(h_1 = i)\n",
    "    pi = np.zeros((1, n_states))\n",
    "\n",
    "    # gmm clustering\n",
    "    from sklearn.mixture import GaussianMixture\n",
    "    gmm = GaussianMixture(n_components=n_states, random_state=0).fit(V)\n",
    "    labels = gmm.predict(V)\n",
    "\n",
    "    # initial state distribution\n",
    "    for i in range(len(labels)):\n",
    "        pi[0][labels[i]] += 1\n",
    "    pi /= np.sum(pi)\n",
    "\n",
    "    # emission matrix\n",
    "    for i in range(len(labels)):\n",
    "        B[labels[i]][V[i][0]] += 1\n",
    "    B /= np.sum(B, axis=1, keepdims=True)\n",
    "\n",
    "    # transition matrix\n",
    "    for i in range(len(labels)-1):\n",
    "        A[labels[i]][labels[i+1]] += 1\n",
    "    A /= np.sum(A, axis=1, keepdims=True)\n",
    "\n",
    "    return A, B, pi"
   ]
  },
  {
   "cell_type": "code",
   "execution_count": 9,
   "metadata": {},
   "outputs": [],
   "source": [
    "# alpha recursion - p(h_{t},v_{1:t}) = alpha_{t+1} = alpha_{t} * A * B\n",
    "def alpha_recursion(observations, A, B, pi):\n",
    "    n_states = A.shape[0]\n",
    "    n_samples = len(observations)\n",
    "    alpha = np.zeros((n_samples, n_states))\n",
    "    alpha[0,:] = pi * B[:, observations[0]]\n",
    "\n",
    "    for t in range(1, n_samples):\n",
    "        for i in range(n_states):\n",
    "            alpha[t, i] = (alpha[t-1,:]@A[:,i]) * B[i, observations[t]]\n",
    "\n",
    "    return alpha"
   ]
  },
  {
   "cell_type": "code",
   "execution_count": 10,
   "metadata": {},
   "outputs": [],
   "source": [
    "# beta recursion - p(v_{1:t} | h_{t}) = beta_{t} = A * B * beta_{t+1}\n",
    "def beta_recursion(observations, A, B):\n",
    "    \n",
    "    n_states = A.shape[0]\n",
    "    n_samples = len(observations)\n",
    "    beta = np.zeros((n_samples, n_states))\n",
    "    beta[-1] = 1\n",
    "\n",
    "    for t in range(n_samples-2, -1, -1):\n",
    "        for i in range(n_states):\n",
    "            beta[t, i] = (beta[t+1,:]*B[:, observations[t+1]]) @ A[i,:]\n",
    "\n",
    "    return beta"
   ]
  },
  {
   "cell_type": "code",
   "execution_count": 11,
   "metadata": {},
   "outputs": [],
   "source": [
    "# single sequence update of A, B\n",
    "def update(observations, A, B, pi):\n",
    "\n",
    "    # alpha = p(h_{t},v_{1:t}) - dimensions (T, n_states), beta = p(v_{t+1:T}|h_{t}) - dimensions (T, n_states)\n",
    "    alpha = alpha_recursion(observations, A, B, pi)\n",
    "    beta = beta_recursion(observations, A, B)\n",
    "    \n",
    "    T = len(observations)\n",
    "\n",
    "    # xi = p(h_{t}, h_{t+1}, v_{1:T}) - dimensions (n_states, n_states, T-1)\n",
    "    xi = np.zeros((A.shape[0], A.shape[1], observations.shape[0]-1), )\n",
    "    for t in range(T-1):\n",
    "        for i in range(A.shape[0]):\n",
    "            for j in range(A.shape[1]):\n",
    "                # xi_{i,j} = p(h_{t}=i, h_{t+1}=j, v_{1:T})\n",
    "                xi[i, j, t] = alpha[t, i] * A[i, j] * B[j, observations[t + 1]] * beta[t + 1, j]\n",
    "        xi[:, :, t] /= np.sum(xi[:, :, t])\n",
    "\n",
    "    # gamma = p(h_{t}, v_{1:T}) - dimensions (n_states, T)\n",
    "    gamma = np.zeros((A.shape[0], observations.shape[0]))\n",
    "    for t in range(T):\n",
    "        for i in range(A.shape[0]):\n",
    "            gamma[i, t] = alpha[t, i] * beta[t, i]\n",
    "        gamma[:, t] /= np.sum(gamma[:, t])\n",
    "\n",
    "    # update A - sum xi over T and normalise\n",
    "    A = np.sum(xi, axis=2) / np.sum(np.sum(xi, axis=1), axis=1).reshape((-1, 1))\n",
    "    \n",
    "    # update B - sum gamma over T and normalise\n",
    "    B = np.copy(B)\n",
    "    denominator = np.sum(gamma, axis=1)\n",
    "    for k in range(B.shape[1]):\n",
    "        B[:,k] = np.sum(gamma[:,observations==k], axis=1)\n",
    "\n",
    "    B /= denominator.reshape((-1, 1))\n",
    "\n",
    "    # update pi\n",
    "    pi = gamma[:, 0]\n",
    "\n",
    "    return A, B, pi"
   ]
  },
  {
   "cell_type": "code",
   "execution_count": 12,
   "metadata": {},
   "outputs": [],
   "source": [
    "# multiple sequence update of A, B\n",
    "def update_multi_sequences(observations_list, A, B, pi):\n",
    "    # Initialize accumulators for A and B updates\n",
    "    A_accumulator = np.zeros_like(A)\n",
    "    B_accumulator = np.zeros_like(B)\n",
    "    pi_accumulator = np.zeros_like(pi)\n",
    "\n",
    "    # Iterate over observation sequences\n",
    "    for observations in observations_list:\n",
    "        # alpha = p(h_{t},v_{1:t}) - dimensions (T, n_states), beta = p(v_{t+1:T}|h_{t}) - dimensions (T, n_states)\n",
    "        alpha = alpha_recursion(observations, A, B, pi)\n",
    "        beta = beta_recursion(observations, A, B)\n",
    "        \n",
    "        # xi = p(h_{t}, h_{t+1}, v_{1:T}) - dimensions (n_states, n_states, T-1)\n",
    "        # Compute denominator and numerator\n",
    "        T = len(observations) - 1\n",
    "        numerator = alpha[:T, :, None] * A[None, :, :] * B[:, observations[1:]].T[:, None] * beta[1:, None, :]\n",
    "        denominator = np.sum(numerator, axis=(1,2)).reshape((-1, 1, 1))\n",
    "        xi = numerator / denominator\n",
    "    \n",
    "    gamma = np.sum(xi, axis=2)\n",
    "    gamma = np.vstack((gamma, np.sum(xi[-1, :, :], axis=1)))\n",
    "    print(gamma.shape)\n",
    "\n",
    "    # Accumulate updates\n",
    "    pi_accumulator += np.sum(gamma, axis=0)\n",
    "    A_accumulator += np.sum(xi, axis=0)\n",
    "    B_accumulator += np.sum(gamma[:, :, None] * (observations[None, :] == np.arange(B.shape[1])), axis=0)\n",
    "\n",
    "    # Normalize updates by the total number of sequences\n",
    "    total_sequences = len(observations_list)\n",
    "    pi = pi_accumulator / total_sequences\n",
    "    print(pi)\n",
    "    A = A_accumulator / total_sequences\n",
    "    B = (B_accumulator.T / np.sum(gamma, axis=0)).T\n",
    "\n",
    "    return pi, A, B"
   ]
  },
  {
   "cell_type": "code",
   "execution_count": 13,
   "metadata": {},
   "outputs": [
    {
     "name": "stderr",
     "output_type": "stream",
     "text": [
      "100%|██████████| 500/500 [02:50<00:00,  2.92it/s]\n"
     ]
    }
   ],
   "source": [
    "from tqdm import tqdm\n",
    "\n",
    "# EM algorithm\n",
    "def baum_welch(observations, initialisation, n_iter=100):\n",
    "\n",
    "    A_accumulator = np.zeros((3, 3))\n",
    "    B_accumulator = np.zeros((3, 3))\n",
    "    pi_accumulator = np.zeros((1, 3))\n",
    "\n",
    "    for v in tqdm(observations):\n",
    "\n",
    "        # Initialize parameters\n",
    "        A, B, pi = initialisation()\n",
    "        \n",
    "        for _ in range(n_iter):\n",
    "            A, B, pi = update(v, A, B, pi)\n",
    "        \n",
    "        # Accumulate updates\n",
    "        pi_accumulator += pi\n",
    "        A_accumulator += A\n",
    "        B_accumulator += B\n",
    "\n",
    "    # Normalize updates by the total number of sequences\n",
    "    total_sequences = len(observations)\n",
    "    pi = pi_accumulator / total_sequences\n",
    "    A = A_accumulator / total_sequences\n",
    "    B = (B_accumulator.T / np.sum(B_accumulator, axis=1)).T\n",
    "\n",
    "    return pi, A, B\n",
    "\n",
    "pi_final, A_final, B_final = baum_welch(V, initialisation=gmm_initial_parameters, n_iter=100)\n"
   ]
  },
  {
   "cell_type": "code",
   "execution_count": 14,
   "metadata": {},
   "outputs": [
    {
     "data": {
      "text/plain": [
       "(array([[0.32400001, 0.479956  , 0.19604399]]),\n",
       " array([[0.71671304, 0.28042741, 0.00285955],\n",
       "        [0.0916518 , 0.70000045, 0.20834774],\n",
       "        [0.11408424, 0.15202166, 0.73389409]]),\n",
       " array([[9.44505508e-01, 5.51218481e-02, 3.72644361e-04],\n",
       "        [2.50949395e-02, 9.64668287e-01, 1.02367737e-02],\n",
       "        [6.09212050e-04, 6.84038636e-02, 9.30986924e-01]]))"
      ]
     },
     "execution_count": 14,
     "metadata": {},
     "output_type": "execute_result"
    }
   ],
   "source": [
    "pi_final, A_final, B_final"
   ]
  },
  {
   "cell_type": "code",
   "execution_count": 15,
   "metadata": {},
   "outputs": [],
   "source": [
    "# log-likelihood of data given final parameters\n",
    "def log_likelihood(observations, A, B, pi):\n",
    "\n",
    "    likelihood = 0\n",
    "    for v in observations:\n",
    "        likelihood += np.sum(alpha_recursion(v, A, B, pi)[-1,:])\n",
    "\n",
    "    return np.log(likelihood / len(observations))"
   ]
  },
  {
   "cell_type": "code",
   "execution_count": 16,
   "metadata": {},
   "outputs": [
    {
     "data": {
      "text/plain": [
       "-66.01397435551051"
      ]
     },
     "execution_count": 16,
     "metadata": {},
     "output_type": "execute_result"
    }
   ],
   "source": [
    "log_likelihood(V, A_final, B_final, pi_final)"
   ]
  },
  {
   "cell_type": "code",
   "execution_count": 17,
   "metadata": {},
   "outputs": [
    {
     "name": "stdout",
     "output_type": "stream",
     "text": [
      "Distribution:  [0.00785855 0.97021095 0.0219305 ] Most likley station:  1\n",
      "Distribution:  [1.72033203e-04 3.33305335e-02 9.66497433e-01] Most likley station:  2\n",
      "Distribution:  [0.01098862 0.95092158 0.0380898 ] Most likley station:  1\n",
      "Distribution:  [0.84112371 0.15765625 0.00122004] Most likley station:  0\n",
      "Distribution:  [0.12438917 0.87448823 0.0011226 ] Most likley station:  1\n",
      "Distribution:  [9.89450084e-01 1.05453957e-02 4.52041274e-06] Most likley station:  0\n",
      "Distribution:  [0.84675766 0.15207746 0.00116488] Most likley station:  0\n",
      "Distribution:  [0.01099236 0.95089818 0.03810947] Most likley station:  1\n",
      "Distribution:  [6.32253217e-05 2.60752285e-03 9.97329252e-01] Most likley station:  2\n",
      "Distribution:  [0.0078865  0.97010013 0.02201337] Most likley station:  1\n"
     ]
    }
   ],
   "source": [
    "def posterior(observations, A, B, pi):\n",
    "\n",
    "    alpha = alpha_recursion(observations, A, B, pi)\n",
    "    beta = beta_recursion(observations, A, B)\n",
    "    gamma = alpha * beta\n",
    "    gamma /= np.sum(gamma, axis=1, keepdims=True)\n",
    "\n",
    "    return gamma[-1,:]\n",
    "\n",
    "for v in V[:10]:\n",
    "    posterior_distribution = posterior(v, A_final, B_final, pi_final)\n",
    "    print(\"Distribution: \", posterior_distribution,  \"Most likley station: \", np.argmax(posterior_distribution))"
   ]
  },
  {
   "cell_type": "code",
   "execution_count": null,
   "metadata": {},
   "outputs": [],
   "source": []
  }
 ],
 "metadata": {
  "kernelspec": {
   "display_name": "base",
   "language": "python",
   "name": "python3"
  },
  "language_info": {
   "codemirror_mode": {
    "name": "ipython",
    "version": 3
   },
   "file_extension": ".py",
   "mimetype": "text/x-python",
   "name": "python",
   "nbconvert_exporter": "python",
   "pygments_lexer": "ipython3",
   "version": "3.11.4"
  }
 },
 "nbformat": 4,
 "nbformat_minor": 2
}
